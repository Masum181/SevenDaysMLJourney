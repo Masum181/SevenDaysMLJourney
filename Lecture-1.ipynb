{
 "cells": [
  {
   "cell_type": "markdown",
   "id": "5a932037",
   "metadata": {},
   "source": [
    "#### 1.1 `re(regular expression)`: \n",
    "A regular expression (regex) is a sequence of characters that define a search pattern. It is used to match, find, or replace text within a larger string.\n",
    "* `Method of regular expression`: \n",
    "    1. `re.findall() :` Returns a list containing all matches\n",
    "    2. `re.search() :` Returns a Match object if there is a match anywhere in the string\n",
    "    3. `re.sub():` Replaces one or many matches with a string\n",
    "    4. `re.split():` Returns a list where the string has been split at each match\n",
    "    \n",
    "**Metacharacters:**\n",
    "\n",
    "* `.`   - Any character except new line\n",
    "* \\d  - digit(0-9)\n",
    "* \\D  - Not a digit(0-9)\n",
    "* \\w  - word Character(a-z, A-Z, 0-9, -)\n",
    "* \\W  - not a word character.\n",
    "* \\s  - Whitespace (space, tab, newLine)\n",
    "* \\S  - Not a whitespace (space, tab, newLine)\n",
    "\n",
    "* \\b  - word boundary\n",
    "* \\B  - not a word boundary.\n",
    "* ^   - Beginning of a String\n",
    "* $   - End of a String\n",
    "\n",
    "[]  - Matches Character in brackets.\n",
    "\n",
    "[^] - Matches character not in bracket.\n"
   ]
  },
  {
   "cell_type": "markdown",
   "id": "c64cc2d4",
   "metadata": {},
   "source": [
    "**Quantifiers:**\n",
    "\n",
    "`* `       0 or More\n",
    "\n",
    "`+`           - 1 or More\n",
    "\n",
    "`? `          - o or One\n",
    "\n",
    "`{3}`        - Exact Number\n",
    "\n",
    "`{3,4}`       Range of Numbers(Minimum , Maximum)\n",
    "\n",
    "\n",
    "`()`       - group\n",
    "\n",
    "`|`        - either or"
   ]
  },
  {
   "cell_type": "markdown",
   "id": "4d527c79",
   "metadata": {},
   "source": [
    "### let's dive into deep"
   ]
  },
  {
   "cell_type": "code",
   "execution_count": 1,
   "id": "3d2e8747",
   "metadata": {},
   "outputs": [
    {
     "data": {
      "text/plain": [
       "['1234567890',\n",
       " '321-555-4321',\n",
       " '123.555.1234',\n",
       " '800-342-4568',\n",
       " '900-342-4568',\n",
       " '800-342-4564']"
      ]
     },
     "execution_count": 1,
     "metadata": {},
     "output_type": "execute_result"
    }
   ],
   "source": [
    "import re\n",
    "text_to_search = '''\n",
    "abcdefghijklmnopqrstuvwxyz\n",
    "ABCDEFGHIJKLMNOPQRSTUVWXYZ\n",
    "1234567890\n",
    "\n",
    "Ha HaHa\n",
    "\n",
    "MetaCharacters(Need to be escaped):\n",
    ". ^ $ * + ? { } [ ] \\ | ( )\n",
    "\n",
    "coreyms.com\n",
    "\n",
    "321-555-4321\n",
    "123.555.1234\n",
    "800-342-4568\n",
    "900-342-4568\n",
    "800-342-4564\n",
    "\n",
    "\n",
    "Mr. Schafer\n",
    "Mr Smith\n",
    "Ms Davis\n",
    "Mrs. Robinson\n",
    "Mr. T\n",
    "cat\n",
    "mat\n",
    "bat\n",
    "'''\n",
    "\n",
    "num_pattern = r\"\\d+.\\d+.\\d+\"\n",
    "re.findall(num_pattern, text_to_search)"
   ]
  },
  {
   "cell_type": "code",
   "execution_count": 2,
   "id": "1595ac2c",
   "metadata": {},
   "outputs": [
    {
     "name": "stdout",
     "output_type": "stream",
     "text": [
      "<re.Match object; span=(55, 65), match='1234567890'>\n",
      "1234567890\n"
     ]
    }
   ],
   "source": [
    "## re.search\n",
    "\n",
    "print(re.search(num_pattern, text_to_search))\n",
    "print(re.search(num_pattern, text_to_search).group())"
   ]
  },
  {
   "cell_type": "code",
   "execution_count": 3,
   "id": "c5a3fac3",
   "metadata": {},
   "outputs": [],
   "source": [
    "## re.sub()\n",
    "## re.split()"
   ]
  },
  {
   "cell_type": "code",
   "execution_count": 4,
   "id": "f661f765",
   "metadata": {},
   "outputs": [
    {
     "data": {
      "text/plain": [
       "['support@techservices.org',\n",
       " 'admin@corptech.com',\n",
       " 'sales@globalproducts.co',\n",
       " 'contact@marketleaders.biz',\n",
       " 'partnerships@businessgrowth.io',\n",
       " 'collab@companyspace.com',\n",
       " 'john.doe@personalmail.com',\n",
       " 'jane_smith@workmail.net',\n",
       " 'mike123@randommail.org',\n",
       " 'info@servicehub.co',\n",
       " 'office@officelinks.us',\n",
       " 'webinar@learningplatform.edu']"
      ]
     },
     "execution_count": 4,
     "metadata": {},
     "output_type": "execute_result"
    }
   ],
   "source": [
    "text_to_search = \"\"\"\n",
    "Hello team,\n",
    "\n",
    "Please find the details for the upcoming projects below. If you have any questions, feel free to reach out.\n",
    "\n",
    "For IT support, email it-support@techservices.org or admin@corptech.com.\n",
    "Our sales team is available at sales@globalproducts.co, while you can reach marketing at contact@marketleaders.biz.\n",
    "If you're interested in partnership opportunities, connect with partnerships@businessgrowth.io or collab@companyspace.com.\n",
    "\n",
    "Additionally, personal contacts for specific queries:\n",
    "- John Doe: john.doe@personalmail.com\n",
    "- Jane Smith: jane_smith@workmail.net\n",
    "- Mike: mike123@randommail.org\n",
    "\n",
    "General inquiries can be sent to info@servicehub.co or office@officelinks.us.\n",
    "If you want to join our webinars, register through webinar@learningplatform.edu.\n",
    "\n",
    "Looking forward to your responses.\n",
    "\n",
    "Best regards,\n",
    "Team ProjectLink\n",
    "\"\"\"\n",
    "\n",
    "email_pattern = \"\\w+\\.?\\w*@?\\w+\\.\\w+\"\n",
    "re.findall(email_pattern, text_to_search)"
   ]
  },
  {
   "cell_type": "markdown",
   "id": "83fe70e4",
   "metadata": {},
   "source": [
    "#### your task:\n",
    "**extract the url from the text:**\n",
    "\n",
    "<a href=\"https://regex101.com/\"> for help to make pattern</a>"
   ]
  },
  {
   "cell_type": "code",
   "execution_count": 5,
   "id": "54d5c44e",
   "metadata": {},
   "outputs": [],
   "source": [
    "text = \"\"\"\n",
    "Hi team,\n",
    "\n",
    "Please check out the following resources for our upcoming campaign:\n",
    "- Our website: https://www.companywebsite.com\n",
    "- Product catalog: http://products.company.org/catalog\n",
    "- Partner portal: https://partners.company-services.net/portal\n",
    "- Blog: www.blog.companysite.com\n",
    "- Documentation: docs.companydomain.com/resources\n",
    "\n",
    "Feel free to visit these pages for more details or get updates from our social media:\n",
    "- Twitter: https://twitter.com/company\n",
    "- LinkedIn: https://www.linkedin.com/company/company-name\n",
    "- Instagram: https://instagram.com/company_official\n",
    "\n",
    "Regards,\n",
    "Marketing Team\n",
    "\"\"\""
   ]
  },
  {
   "cell_type": "markdown",
   "id": "710b6dac",
   "metadata": {},
   "source": [
    "### 1.2 <a href=\"https://docs.python.org/3/library/os.html\">os(operation system)</a>\n",
    "The `os` module in Python provides a way to interact with the operating system. It offers functions to perform tasks like file and directory management, process handling, environment variable access, and more.\n",
    "\n",
    "**key_Feature of OS**\n",
    "1. File and directory Management.\n",
    "    * `os.listdir(path):` Lists all files and directories in the specified path.\n",
    "    * `os.mkdir(path):` Creates a directory.\n",
    "    * `os.mkdirs(path):` it used to create a directory recursively. That means while making leaf directory if any intermediate-level directory is missing,\n",
    "    * `os.remove(file_path):` Deletes a file.\n",
    "    * `os.rmdir(path):` Removes a directory.\n",
    "    * `os.rename(src, dst):` Renames a file or directory.\n",
    "\n",
    "2. Path Manipulations\n",
    "    * `os.path.join():` Joins multiple paths together (useful for cross-platform compatibility).\n",
    "    * `os.path.exists(path):` Checks if a path exists.\n",
    "    * `os.path.isfile(path):` Checks if a path is a file.\n",
    "    * `os.path.isdir(path):` Checks if a path is a directory.\n",
    "3. Environment Variables\n",
    "    * `os.getenv(key):` Retrieves the value of an environment variable.\n",
    "    * `os.putenv(key, value):` Sets an environment variable.\n",
    "    \n",
    "4. Working Directory:\n",
    "    * `os.getcwd():` Returns the current working directory.\n",
    "    * `os.chdir(path):` Changes the current working directory to the specified path.\n"
   ]
  },
  {
   "cell_type": "code",
   "execution_count": 1,
   "id": "4b1c2dad",
   "metadata": {},
   "outputs": [],
   "source": [
    "import os"
   ]
  },
  {
   "cell_type": "markdown",
   "id": "b7293bc1",
   "metadata": {},
   "source": [
    "#### File and directory management:"
   ]
  },
  {
   "cell_type": "code",
   "execution_count": 7,
   "id": "6cf7c85a",
   "metadata": {},
   "outputs": [
    {
     "data": {
      "text/plain": [
       "['.ipynb_checkpoints', 'Lecture-1.ipynb', 'test']"
      ]
     },
     "execution_count": 7,
     "metadata": {},
     "output_type": "execute_result"
    }
   ],
   "source": [
    "os.listdir() # list the all files and directories of current directory."
   ]
  },
  {
   "cell_type": "code",
   "execution_count": 8,
   "id": "eb33092d",
   "metadata": {},
   "outputs": [
    {
     "data": {
      "text/plain": [
       "['algorithm',\n",
       " 'archive.zip',\n",
       " 'CelebAAttrs.csv',\n",
       " 'computer vision',\n",
       " 'facenet.zip',\n",
       " 'facial app',\n",
       " 'human_pose_estimation',\n",
       " 'payment project',\n",
       " 'project',\n",
       " 'tensorenv',\n",
       " 'Tensorflow',\n",
       " 'yolo algorithom']"
      ]
     },
     "execution_count": 8,
     "metadata": {},
     "output_type": "execute_result"
    }
   ],
   "source": [
    "os.listdir(r\"D:\\Tensorflow-learn\") # list of all files and directories of specified path"
   ]
  },
  {
   "cell_type": "code",
   "execution_count": null,
   "id": "1cca9e45",
   "metadata": {},
   "outputs": [],
   "source": []
  },
  {
   "cell_type": "code",
   "execution_count": 10,
   "id": "27237dee",
   "metadata": {},
   "outputs": [],
   "source": [
    "os.mkdir(\"test\") # creating a folder"
   ]
  },
  {
   "cell_type": "code",
   "execution_count": 11,
   "id": "29983bc8",
   "metadata": {},
   "outputs": [],
   "source": [
    "os.makedirs(\"./test/test1/test2/test3\") # creating directory recursively"
   ]
  },
  {
   "cell_type": "markdown",
   "id": "8d92cd2b",
   "metadata": {},
   "source": [
    "#### Path manipulations"
   ]
  },
  {
   "cell_type": "code",
   "execution_count": 15,
   "id": "869c3fe4",
   "metadata": {},
   "outputs": [
    {
     "data": {
      "text/plain": [
       "'E:\\\\ML_class_duet'"
      ]
     },
     "execution_count": 15,
     "metadata": {},
     "output_type": "execute_result"
    }
   ],
   "source": [
    "os.getcwd()"
   ]
  },
  {
   "cell_type": "code",
   "execution_count": 16,
   "id": "7a66324a",
   "metadata": {},
   "outputs": [
    {
     "data": {
      "text/plain": [
       "'E:\\\\ML_class_duet\\\\lecture-1\\\\lecture-2'"
      ]
     },
     "execution_count": 16,
     "metadata": {},
     "output_type": "execute_result"
    }
   ],
   "source": [
    "os.path.join(os.getcwd(), \"lecture-1\", \"lecture-2\")"
   ]
  },
  {
   "cell_type": "code",
   "execution_count": 17,
   "id": "901e1f44",
   "metadata": {},
   "outputs": [
    {
     "data": {
      "text/plain": [
       "True"
      ]
     },
     "execution_count": 17,
     "metadata": {},
     "output_type": "execute_result"
    }
   ],
   "source": [
    "os.path.exists(os.getcwd())"
   ]
  },
  {
   "cell_type": "code",
   "execution_count": 19,
   "id": "b7dc1143",
   "metadata": {},
   "outputs": [
    {
     "data": {
      "text/plain": [
       "False"
      ]
     },
     "execution_count": 19,
     "metadata": {},
     "output_type": "execute_result"
    }
   ],
   "source": [
    "temp_path = os.path.join(os.getcwd(), \"lecture-1\", \"lecture-2\")\n",
    "os.path.exists(temp_path)"
   ]
  },
  {
   "cell_type": "markdown",
   "id": "93f2b251",
   "metadata": {},
   "source": [
    "#### Environment variable"
   ]
  },
  {
   "cell_type": "code",
   "execution_count": 96,
   "id": "a851ddf5",
   "metadata": {},
   "outputs": [
    {
     "data": {
      "text/plain": [
       "'DESKTOP-JFF8SPI'"
      ]
     },
     "execution_count": 96,
     "metadata": {},
     "output_type": "execute_result"
    }
   ],
   "source": [
    "os.getenv('COMPUTERNAME')"
   ]
  },
  {
   "cell_type": "code",
   "execution_count": 13,
   "id": "755ae4b8",
   "metadata": {},
   "outputs": [
    {
     "data": {
      "text/plain": [
       "'C:\\\\Program Files (x86)\\\\Common Files\\\\Oracle\\\\Java\\\\javapath;;;C:\\\\Windows\\\\system32;C:\\\\Windows;C:\\\\Windows\\\\System32\\\\Wbem;C:\\\\Windows\\\\System32\\\\WindowsPowerShell\\\\v1.0\\\\;C:\\\\Windows\\\\System32\\\\OpenSSH\\\\;C:\\\\Program Files\\\\Microsoft SQL Server\\\\150\\\\Tools\\\\Binn\\\\;C:\\\\Program Files\\\\Microsoft SQL Server\\\\Client SDK\\\\ODBC\\\\170\\\\Tools\\\\Binn\\\\;C:\\\\Program Files\\\\dotnet\\\\;C:\\\\Program Files\\\\Git\\\\cmd;C:\\\\Users\\\\MASUM\\\\AppData\\\\Local\\\\Programs\\\\Python\\\\Python310;C:\\\\Users\\\\MASUM\\\\AppData\\\\Local\\\\Programs\\\\Python\\\\Python310\\\\Scripts;C:\\\\Program Files\\\\NVIDIA GPU Computing Toolkit\\\\CUDA\\\\v11.2\\\\bin;C:\\\\Program Files\\\\NVIDIA GPU Computing Toolkit\\\\CUDA\\\\v11.2\\\\extras\\\\CUPTI\\\\lib64;C:\\\\Program Files\\\\NVIDIA GPU Computing Toolkit\\\\CUDA\\\\v11.2\\\\libnvvp;C:\\\\Users\\\\MASUM\\\\AppData\\\\Local\\\\Programs\\\\Microsoft VS Code\\\\bin;C:\\\\MinGW\\\\bin;'"
      ]
     },
     "execution_count": 13,
     "metadata": {},
     "output_type": "execute_result"
    }
   ],
   "source": [
    "os.getenv(\"PATH\")t"
   ]
  },
  {
   "cell_type": "code",
   "execution_count": 97,
   "id": "a35c90d9",
   "metadata": {
    "scrolled": true
   },
   "outputs": [
    {
     "data": {
      "text/plain": [
       "'MASUM'"
      ]
     },
     "execution_count": 97,
     "metadata": {},
     "output_type": "execute_result"
    }
   ],
   "source": [
    "os.getenv(\"USERNAME\")"
   ]
  },
  {
   "cell_type": "code",
   "execution_count": 98,
   "id": "e1409fe7",
   "metadata": {},
   "outputs": [
    {
     "data": {
      "text/plain": [
       "'C:\\\\Users\\\\MASUM\\\\AppData\\\\Local\\\\Temp'"
      ]
     },
     "execution_count": 98,
     "metadata": {},
     "output_type": "execute_result"
    }
   ],
   "source": [
    "os.getenv(\"TEMP\")"
   ]
  },
  {
   "cell_type": "code",
   "execution_count": 99,
   "id": "94d10be3",
   "metadata": {},
   "outputs": [],
   "source": [
    "os.getenv(\"HOME\")"
   ]
  },
  {
   "cell_type": "code",
   "execution_count": 100,
   "id": "1c75749e",
   "metadata": {},
   "outputs": [
    {
     "data": {
      "text/plain": [
       "'C:\\\\Program Files\\\\WindowsPowerShell\\\\Modules;C:\\\\Windows\\\\system32\\\\WindowsPowerShell\\\\v1.0\\\\Modules'"
      ]
     },
     "execution_count": 100,
     "metadata": {},
     "output_type": "execute_result"
    }
   ],
   "source": [
    "os.getenv('PsModulePath')"
   ]
  },
  {
   "cell_type": "markdown",
   "id": "7021526d",
   "metadata": {},
   "source": [
    "**creating password by command line: setx MY_APP_PASSWORD \"your_password\"**\n",
    "\n",
    "**manually: go `environment variable` then create `new variable`  [user and password]**"
   ]
  },
  {
   "cell_type": "code",
   "execution_count": null,
   "id": "e4631888",
   "metadata": {},
   "outputs": [],
   "source": [
    "os.getenv(\"MY_APP_PASSWORD\")"
   ]
  },
  {
   "cell_type": "code",
   "execution_count": null,
   "id": "e9263991",
   "metadata": {},
   "outputs": [],
   "source": [
    "os.name # my operating system name"
   ]
  },
  {
   "cell_type": "code",
   "execution_count": null,
   "id": "583e265f",
   "metadata": {},
   "outputs": [],
   "source": [
    "os.cpu_count() # Returns the number of cpu cores"
   ]
  },
  {
   "cell_type": "code",
   "execution_count": null,
   "id": "5233f8cd",
   "metadata": {},
   "outputs": [],
   "source": [
    "for key, value in os.environ.items():\n",
    "    print(\"{}={}\".format(key, value))"
   ]
  },
  {
   "cell_type": "markdown",
   "id": "cbb33a20",
   "metadata": {},
   "source": [
    "### Working directory"
   ]
  },
  {
   "cell_type": "code",
   "execution_count": 3,
   "id": "d3971c61",
   "metadata": {},
   "outputs": [
    {
     "data": {
      "text/plain": [
       "'E:\\\\ML_class_duet'"
      ]
     },
     "execution_count": 3,
     "metadata": {},
     "output_type": "execute_result"
    }
   ],
   "source": [
    "os.getcwd()"
   ]
  },
  {
   "cell_type": "markdown",
   "id": "86049a0a",
   "metadata": {},
   "source": [
    "### 1.3 <a href=\"https://docs.python.org/3/library/datetime.html\">datetime</a>\n",
    "The `datetime` module in Python provides classes for working with dates and times. It allows you to create, `manipulate`, `format`, and `perform arithmetic` on dates and times, which is useful in various applications, including logging, timestamping, scheduling, and formatting date/time data\n",
    "\n",
    "**key classes of datetime library:**\n",
    "\n",
    "* `datetime.date:` Represents a date (year, month, day).\n",
    "* `datetime.time:` Represents a time (hour, minute, second, microsecond).\n",
    "* `datetime.datetime:` Combines both date and time into a single object (year, month, day, hour, minute, second, microsecond).\n",
    "* `datetime.timedelta:` Represents a duration, or difference between two dates or times.\n"
   ]
  },
  {
   "cell_type": "code",
   "execution_count": 25,
   "id": "82db1207",
   "metadata": {},
   "outputs": [],
   "source": [
    "from datetime import datetime\n",
    "from datetime import timedelta\n",
    "from datetime import time"
   ]
  },
  {
   "cell_type": "markdown",
   "id": "ff2d2d64",
   "metadata": {},
   "source": [
    "**Getting the current date and time**"
   ]
  },
  {
   "cell_type": "code",
   "execution_count": 46,
   "id": "239e9f84",
   "metadata": {},
   "outputs": [
    {
     "data": {
      "text/plain": [
       "datetime.datetime(2024, 10, 25, 20, 26, 37, 122603)"
      ]
     },
     "execution_count": 46,
     "metadata": {},
     "output_type": "execute_result"
    }
   ],
   "source": [
    "datetime.now()"
   ]
  },
  {
   "cell_type": "code",
   "execution_count": 49,
   "id": "9e25a7a7",
   "metadata": {},
   "outputs": [
    {
     "data": {
      "text/plain": [
       "(20, 25, 27)"
      ]
     },
     "execution_count": 49,
     "metadata": {},
     "output_type": "execute_result"
    }
   ],
   "source": [
    "datetime.now().hour, datetime.now().day, datetime.now().minute"
   ]
  },
  {
   "cell_type": "code",
   "execution_count": null,
   "id": "851c644f",
   "metadata": {},
   "outputs": [],
   "source": []
  },
  {
   "cell_type": "code",
   "execution_count": null,
   "id": "736256da",
   "metadata": {},
   "outputs": [],
   "source": []
  },
  {
   "cell_type": "markdown",
   "id": "02f4faaa",
   "metadata": {},
   "source": [
    "**Creating a specific date and time**"
   ]
  },
  {
   "cell_type": "code",
   "execution_count": 53,
   "id": "c5b8a910",
   "metadata": {},
   "outputs": [
    {
     "data": {
      "text/plain": [
       "datetime.datetime(2024, 10, 11, 0, 0)"
      ]
     },
     "execution_count": 53,
     "metadata": {},
     "output_type": "execute_result"
    }
   ],
   "source": [
    "d1 = datetime(2024, 10, 11)\n",
    "d1"
   ]
  },
  {
   "cell_type": "markdown",
   "id": "3a81adab",
   "metadata": {},
   "source": [
    "**Formatting datetime into string**\n",
    "\n",
    "* %d : Day of the month as a zero-padded decimal number.\n",
    "* %y : Year without century as a zero-padded decimal number.\n",
    "* %Y : Year with century as a decimal number.\n",
    "* %H : Hour (24-hour clock) as a zero-padded decimal number.\n",
    "* %M : Minute as a zero-padded decimal number.\n",
    "* %s : Second as a zero-padded decimal number.\n",
    "* %b : Month as locale’s abbreviated name.(jan, feb, Dec)\n",
    "* %B : Month as locale’s full name. (January, February..)\n",
    "* %m : Month as a zero-padded decimal number.(01,02,..12)"
   ]
  },
  {
   "cell_type": "code",
   "execution_count": 54,
   "id": "4bd12792",
   "metadata": {},
   "outputs": [
    {
     "data": {
      "text/plain": [
       "'11 October, 2024'"
      ]
     },
     "execution_count": 54,
     "metadata": {},
     "output_type": "execute_result"
    }
   ],
   "source": [
    "d1.strftime(\"%d %B, %Y\")"
   ]
  },
  {
   "cell_type": "markdown",
   "id": "7bb8f024",
   "metadata": {},
   "source": [
    "**Formatting string to datetime**"
   ]
  },
  {
   "cell_type": "code",
   "execution_count": 60,
   "id": "eafdfd07",
   "metadata": {},
   "outputs": [
    {
     "data": {
      "text/plain": [
       "datetime.datetime(2024, 10, 11, 0, 0)"
      ]
     },
     "execution_count": 60,
     "metadata": {},
     "output_type": "execute_result"
    }
   ],
   "source": [
    "string_date = d1.strftime(\"%d %B, %Y\")\n",
    "date_format = \"%d %B, %Y\"\n",
    "datetime.strptime(string_date, date_format)"
   ]
  },
  {
   "cell_type": "markdown",
   "id": "2f5e0064",
   "metadata": {},
   "source": [
    "**UTC time and local Time**"
   ]
  },
  {
   "cell_type": "code",
   "execution_count": 62,
   "id": "5ea7bab3",
   "metadata": {},
   "outputs": [
    {
     "data": {
      "text/plain": [
       "datetime.datetime(2024, 10, 25, 14, 43, 14, 648598)"
      ]
     },
     "execution_count": 62,
     "metadata": {},
     "output_type": "execute_result"
    }
   ],
   "source": [
    "datetime.utcnow() # current utc time of the day"
   ]
  },
  {
   "cell_type": "code",
   "execution_count": 64,
   "id": "9bcb2109",
   "metadata": {},
   "outputs": [
    {
     "data": {
      "text/plain": [
       "datetime.datetime(2024, 10, 25, 20, 43, 37, 85184)"
      ]
     },
     "execution_count": 64,
     "metadata": {},
     "output_type": "execute_result"
    }
   ],
   "source": [
    "datetime.now() # current local time"
   ]
  },
  {
   "cell_type": "markdown",
   "id": "21dc2e57",
   "metadata": {},
   "source": [
    "difference between utc time and loacal time is `six` hours."
   ]
  },
  {
   "cell_type": "code",
   "execution_count": 65,
   "id": "97c6fbd5",
   "metadata": {},
   "outputs": [
    {
     "data": {
      "text/plain": [
       "datetime.datetime(2024, 10, 25, 14, 44, 59, 989298, tzinfo=datetime.timezone.utc)"
      ]
     },
     "execution_count": 65,
     "metadata": {},
     "output_type": "execute_result"
    }
   ],
   "source": [
    "# local to utc\n",
    "from datetime import timezone\n",
    "local_time = datetime.now()\n",
    "local_time.astimezone(timezone.utc)"
   ]
  },
  {
   "cell_type": "markdown",
   "id": "bc994e13",
   "metadata": {},
   "source": [
    "### datetime.timedelta"
   ]
  },
  {
   "cell_type": "code",
   "execution_count": 35,
   "id": "8fcef7e4",
   "metadata": {},
   "outputs": [
    {
     "data": {
      "text/plain": [
       "datetime.timedelta(days=5, seconds=72600)"
      ]
     },
     "execution_count": 35,
     "metadata": {},
     "output_type": "execute_result"
    }
   ],
   "source": [
    "t1 = timedelta(hours=40,minutes=30, days=10)\n",
    "t2 = timedelta(hours=20, minutes=20, days=5)\n",
    "t1-t2"
   ]
  },
  {
   "cell_type": "code",
   "execution_count": 38,
   "id": "f2cfc400",
   "metadata": {},
   "outputs": [
    {
     "data": {
      "text/plain": [
       "(5, 73200)"
      ]
     },
     "execution_count": 38,
     "metadata": {},
     "output_type": "execute_result"
    }
   ],
   "source": [
    "t2.days, t2.seconds"
   ]
  },
  {
   "cell_type": "code",
   "execution_count": 45,
   "id": "0d5abf9c",
   "metadata": {},
   "outputs": [
    {
     "data": {
      "text/plain": [
       "datetime.time(23, 10)"
      ]
     },
     "execution_count": 45,
     "metadata": {},
     "output_type": "execute_result"
    }
   ],
   "source": [
    "time(hour=23, minute=10)"
   ]
  },
  {
   "cell_type": "markdown",
   "id": "597fa0ba",
   "metadata": {},
   "source": [
    "#### Datetime.date"
   ]
  },
  {
   "cell_type": "code",
   "execution_count": 73,
   "id": "956cd7cc",
   "metadata": {},
   "outputs": [],
   "source": [
    "from datetime import date"
   ]
  },
  {
   "cell_type": "code",
   "execution_count": 76,
   "id": "d914f91c",
   "metadata": {},
   "outputs": [
    {
     "data": {
      "text/plain": [
       "datetime.date(2, 10, 10)"
      ]
     },
     "execution_count": 76,
     "metadata": {},
     "output_type": "execute_result"
    }
   ],
   "source": [
    "# it represents a date to arithmetic operations\n",
    "date(day=10, year=2, month=10) "
   ]
  },
  {
   "cell_type": "code",
   "execution_count": 77,
   "id": "226b1205",
   "metadata": {},
   "outputs": [
    {
     "data": {
      "text/plain": [
       "datetime.timedelta(days=4)"
      ]
     },
     "execution_count": 77,
     "metadata": {},
     "output_type": "execute_result"
    }
   ],
   "source": [
    "d1 = date(day=10, year=2, month=10)\n",
    "d2 = date(day=6, year=2, month=10)\n",
    "d1-d2"
   ]
  },
  {
   "cell_type": "markdown",
   "id": "d591e20e",
   "metadata": {},
   "source": [
    "### 1.4 <a href=\"https://docs.python.org/3/library/csv.html\"> csv(comma separated value)</a>\n",
    "\n",
    "The `csv` module in Python is a standard library module that provides functionality for working with CSV (Comma-Separated Values) files.\n",
    "\n",
    "**Key features of CSV library:**\n",
    "\n",
    "* `csv.reader:` Reads data from a CSV file row by row, returning each row as a list.\n",
    "* `csv.writer:` Writes data to a CSV file, row by row.\n",
    "* `csv.DictReader:` Reads CSV files into dictionaries, using the first row as keys (headers).\n",
    "* `csv.DictWriter:` Writes dictionaries to CSV, using dictionary keys as headers."
   ]
  },
  {
   "cell_type": "markdown",
   "id": "7d806238",
   "metadata": {},
   "source": [
    "#### Reading and Writing text file\n",
    "\n",
    "* 'r': Read (default mode). Opens the file for reading; an error occurs if the file doesn’t exist.\n",
    "* 'w': Write. Opens the file for writing, creating it if it doesn’t exist or overwriting if it does.\n",
    "* 'a': Append. Opens the file for appending, adding content to the end without overwriting.\n",
    "* 'r+': Read and write.\n",
    "\n",
    "<b>Syntax</b>\n",
    "* with open(file_path, mode) as f:\n",
    "* open(file_path, mode)"
   ]
  },
  {
   "cell_type": "code",
   "execution_count": 79,
   "id": "a2ae497b",
   "metadata": {},
   "outputs": [
    {
     "name": "stdout",
     "output_type": "stream",
     "text": [
      "Hey, i am ML developer\n"
     ]
    }
   ],
   "source": [
    "with open(\"sample.txt\", 'w') as f: # reading file\n",
    "    f.write(\"Hey, i am ML developer\")\n",
    "    \n",
    "with open(\"sample.txt\", 'r') as f:\n",
    "    text = f.read()\n",
    "    print(text)"
   ]
  },
  {
   "cell_type": "code",
   "execution_count": 81,
   "id": "7c042555",
   "metadata": {},
   "outputs": [
    {
     "name": "stdout",
     "output_type": "stream",
     "text": [
      "Ibn Sina (Persian: ابن سینا, romanized: Ibn Sīnā; c. 980 – 22 June 1037 CE), commonly known in the West as Avicenna (/ˌævɪˈsɛnə, ˌɑːvɪ-/), was a preeminent philosopher and physician of the Muslim world,[4][5] flourishing during the Islamic Golden Age, serving in the courts of various Iranian rulers.[6] He is often described as the father of early modern medicine.[7][8][9] His philosophy was of the Peripatetic school derived from Aristotelianism.[10]\n",
      "\n",
      "His most famous works are The Book of Healing, a philosophical and scientific encyclopedia, and The Canon of Medicine, a medical encyclopedia[11][12][13] which became a standard medical text at many medieval European universities[14] and remained in use as late as 1650.[15] Besides philosophy and medicine, Avicenna's corpus includes writings on astronomy, alchemy, geography and geology, psychology, Islamic theology, logic, mathematics, physics, and works of poetry.[16]\n",
      "\n",
      "Avicenna wrote most of his philosophical and scientific works in Arabic, but also wrote several key works in Persian, while his poetic works were written in both languages. Of the 450 works he is believed to have written, around 240 have survived, including 150 on philosophy and 40 on medicine.[10]\n"
     ]
    }
   ],
   "source": [
    "with open(\"ibn_sina.txt\", 'r', encoding='utf-8') as f:\n",
    "    texts = f.read().splitlines()\n",
    "for text in texts:\n",
    "    print(text)"
   ]
  },
  {
   "cell_type": "markdown",
   "id": "aa975262",
   "metadata": {},
   "source": [
    "##### CSV File"
   ]
  },
  {
   "cell_type": "code",
   "execution_count": 88,
   "id": "c8a86193",
   "metadata": {},
   "outputs": [
    {
     "name": "stdout",
     "output_type": "stream",
     "text": [
      "['jhon', 'Smith', 'Abdullah', 'Arif']\n",
      "[]\n"
     ]
    }
   ],
   "source": [
    "import csv\n",
    "with open('data.csv', 'w') as f:\n",
    "    writer = csv.writer(f)\n",
    "    writer.writerow([\"jhon\", \"Smith\", \"Abdullah\", \"Arif\"])\n",
    "    \n",
    "with open('data.csv', 'r') as f:\n",
    "    reader = csv.reader(f)\n",
    "    for row in reader:\n",
    "        print(row)"
   ]
  },
  {
   "cell_type": "code",
   "execution_count": 89,
   "id": "abffa8bc",
   "metadata": {},
   "outputs": [
    {
     "name": "stdout",
     "output_type": "stream",
     "text": [
      "['jhon;Smith;Abdullah;Arif']\n",
      "[]\n"
     ]
    }
   ],
   "source": [
    "import csv\n",
    "with open('data.csv', 'w', ) as f:\n",
    "    writer = csv.writer(f, delimiter=\";\")\n",
    "    writer.writerow([\"jhon\", \"Smith\", \"Abdullah\", \"Arif\"])\n",
    "    \n",
    "with open('data.csv', 'r') as f:\n",
    "    reader = csv.reader(f)\n",
    "    for row in reader:\n",
    "        print(row)"
   ]
  },
  {
   "cell_type": "markdown",
   "id": "922f634f",
   "metadata": {},
   "source": [
    "The majority of `csv` files are separated by commas, however, there are some that are separated by other characters, like colons for example, which can output strange results in Python."
   ]
  },
  {
   "cell_type": "code",
   "execution_count": 93,
   "id": "4cab5015",
   "metadata": {},
   "outputs": [
    {
     "name": "stdout",
     "output_type": "stream",
     "text": [
      "['jhon;Smith;Abdullah;Arif']\n"
     ]
    }
   ],
   "source": [
    "import csv\n",
    "with open('data.csv', 'w',  newline='') as f:\n",
    "    writer = csv.writer(f, delimiter=\";\") # here i use delimiter to separated the data. \n",
    "    writer.writerow([\"jhon\", \"Smith\", \"Abdullah\", \"Arif\"])\n",
    "    \n",
    "with open('data.csv', 'r') as f:\n",
    "    reader = csv.reader(f)\n",
    "    for row in reader:\n",
    "        print(row)"
   ]
  },
  {
   "cell_type": "code",
   "execution_count": 94,
   "id": "f8e0cd68",
   "metadata": {},
   "outputs": [
    {
     "name": "stdout",
     "output_type": "stream",
     "text": [
      "['jhon', 'Smith', 'Abdullah', 'Arif']\n"
     ]
    }
   ],
   "source": [
    "import csv\n",
    "with open('data.csv', 'w',  newline='') as f:\n",
    "    writer = csv.writer(f, delimiter=\";\")\n",
    "    writer.writerow([\"jhon\", \"Smith\", \"Abdullah\", \"Arif\"])\n",
    "    \n",
    "with open('data.csv', 'r') as f:\n",
    "    reader = csv.reader(f, delimiter=';')\n",
    "    for row in reader:\n",
    "        print(row)"
   ]
  },
  {
   "cell_type": "code",
   "execution_count": null,
   "id": "15fa765b",
   "metadata": {},
   "outputs": [],
   "source": []
  },
  {
   "cell_type": "markdown",
   "id": "01af5312",
   "metadata": {},
   "source": [
    "#### Task1: Crate a function that take a list to store that list into csv."
   ]
  },
  {
   "cell_type": "markdown",
   "id": "fe278a24",
   "metadata": {},
   "source": [
    "#### Project1:  Attendance Project\n",
    "Create a attendance project that operates as follows:\n",
    "1. system should take the subject name from the user.\n",
    "2. after taking subject name, then system will take student name.\n",
    "3. it should automatcally capture the current date\n",
    "4. Finally store that into csv file as 3 columns that are subject name, student name, Date\n",
    "\n",
    "Note: Pleae don't make the file manually. Create the csv file by your program. Create your program efficient way."
   ]
  },
  {
   "cell_type": "code",
   "execution_count": 103,
   "id": "aa97ad73",
   "metadata": {},
   "outputs": [
    {
     "data": {
      "text/plain": [
       "'24-10-26'"
      ]
     },
     "execution_count": 103,
     "metadata": {},
     "output_type": "execute_result"
    }
   ],
   "source": [
    "datetime.now().strftime(\"%y-%m-%d\")"
   ]
  },
  {
   "cell_type": "code",
   "execution_count": null,
   "id": "f9e0ec08",
   "metadata": {},
   "outputs": [],
   "source": []
  }
 ],
 "metadata": {
  "kernelspec": {
   "display_name": "Python 3 (ipykernel)",
   "language": "python",
   "name": "python3"
  },
  "language_info": {
   "codemirror_mode": {
    "name": "ipython",
    "version": 3
   },
   "file_extension": ".py",
   "mimetype": "text/x-python",
   "name": "python",
   "nbconvert_exporter": "python",
   "pygments_lexer": "ipython3",
   "version": "3.10.6"
  }
 },
 "nbformat": 4,
 "nbformat_minor": 5
}
