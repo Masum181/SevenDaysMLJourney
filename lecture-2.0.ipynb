{
 "cells": [
  {
   "cell_type": "markdown",
   "id": "07af6482",
   "metadata": {},
   "source": [
    "### 2.1 Pandas\n",
    "\n",
    "`Pandas: `Pandas is a popular open-source data manipulation and analysis library for Python. It provides data structures and functions needed to work with structured data efficiently, such as in tables or time series.\n",
    "\n",
    "**With Pandas you can:**\n",
    "1. `Data Loading and Saving` (Load and save data from various file types, such as CSV, Excel, SQL databases, JSON, etc)\n",
    "2. `Data Cleaning and Preprocessing` (Handle missing values by filling, dropping, or imputing them, and removing duplicates by filtering\n",
    "3. `Data Exploration and Analysis` (Perform statistical analysis on data, such as calculating mean, median, mode, standard deviation, and generating summary statistics)\n",
    "3. `Grouping and Aggregation` (Group data by one or more columns and apply aggregation functions (like sum, mean))\n",
    "4. `Time Series Analysis` ( Handle date and time data with specialized functions)\n",
    "5. `Data Visualization` (Create simple plots like line, bar, histogram, and scatter plots directly from Pandas)\n",
    "6. `Advanced Data Operations` (such as map, applymap, apply)\n",
    "\n",
    "**There are two main data structures in pandas**\n",
    "1. `Series :` A one-dimensional labeled array, similar to a list or array but with labeled indices, which can hold any data type\n",
    "2. `DataFrame :`A two-dimensional, table-like structure with labeled axes (rows and columns). It’s essentially a collection of Series objects, where each column in the DataFrame is a Series"
   ]
  },
  {
   "cell_type": "markdown",
   "id": "bcf34f55",
   "metadata": {},
   "source": [
    "### 2.2 creating Pandas DataFrame by dictionary"
   ]
  },
  {
   "cell_type": "code",
   "execution_count": 1,
   "id": "cdea4dc4",
   "metadata": {},
   "outputs": [],
   "source": [
    "import pandas as pd"
   ]
  },
  {
   "cell_type": "code",
   "execution_count": 7,
   "id": "6b1eaacf",
   "metadata": {},
   "outputs": [],
   "source": [
    "# Creating Pandas dataframe by dictionary\n",
    "\n",
    "info = {\n",
    "    \"Name\": [\"Emon Durjoy\", \"Faruk Ahmed\", \"Rakib Ahmed\", \"Shahidul Hossain\"],\n",
    "    \"Email\": [\"emon@test.com\", \"Faruk@test.com\", \"Rakib@test.com\", \"Shahidul@test.com\"],\n",
    "    \"Roll\": [220304, 220450, 220876, 2234583],\n",
    "    \"Attendance\": [\"Present\", \"Present\", \"Present\", \"Absent\"]\n",
    "       }"
   ]
  },
  {
   "cell_type": "code",
   "execution_count": 6,
   "id": "a9b5d72c",
   "metadata": {},
   "outputs": [
    {
     "data": {
      "text/plain": [
       "{'Name': ['Emon Durjoy', 'Faruk Ahmed', 'Rakib Ahmed', 'Shahidul Hossain'],\n",
       " 'Email': ['emon@test.com',\n",
       "  'Faruk@test.com',\n",
       "  'Rakib@test.com',\n",
       "  'Shahidul@test.com'],\n",
       " 'Roll': ['220304', '220450', '220876', '2234583'],\n",
       " 'Attendance': ['Present', 'Present', 'Present', 'Absent']}"
      ]
     },
     "execution_count": 6,
     "metadata": {},
     "output_type": "execute_result"
    }
   ],
   "source": [
    "info"
   ]
  },
  {
   "cell_type": "code",
   "execution_count": 8,
   "id": "621f301e",
   "metadata": {},
   "outputs": [],
   "source": [
    "df = pd.DataFrame(info)"
   ]
  },
  {
   "cell_type": "code",
   "execution_count": 9,
   "id": "fcea3cee",
   "metadata": {},
   "outputs": [
    {
     "data": {
      "text/html": [
       "<div>\n",
       "<style scoped>\n",
       "    .dataframe tbody tr th:only-of-type {\n",
       "        vertical-align: middle;\n",
       "    }\n",
       "\n",
       "    .dataframe tbody tr th {\n",
       "        vertical-align: top;\n",
       "    }\n",
       "\n",
       "    .dataframe thead th {\n",
       "        text-align: right;\n",
       "    }\n",
       "</style>\n",
       "<table border=\"1\" class=\"dataframe\">\n",
       "  <thead>\n",
       "    <tr style=\"text-align: right;\">\n",
       "      <th></th>\n",
       "      <th>Name</th>\n",
       "      <th>Email</th>\n",
       "      <th>Roll</th>\n",
       "      <th>Attendance</th>\n",
       "    </tr>\n",
       "  </thead>\n",
       "  <tbody>\n",
       "    <tr>\n",
       "      <th>0</th>\n",
       "      <td>Emon Durjoy</td>\n",
       "      <td>emon@test.com</td>\n",
       "      <td>220304</td>\n",
       "      <td>Present</td>\n",
       "    </tr>\n",
       "    <tr>\n",
       "      <th>1</th>\n",
       "      <td>Faruk Ahmed</td>\n",
       "      <td>Faruk@test.com</td>\n",
       "      <td>220450</td>\n",
       "      <td>Present</td>\n",
       "    </tr>\n",
       "    <tr>\n",
       "      <th>2</th>\n",
       "      <td>Rakib Ahmed</td>\n",
       "      <td>Rakib@test.com</td>\n",
       "      <td>220876</td>\n",
       "      <td>Present</td>\n",
       "    </tr>\n",
       "    <tr>\n",
       "      <th>3</th>\n",
       "      <td>Shahidul Hossain</td>\n",
       "      <td>Shahidul@test.com</td>\n",
       "      <td>2234583</td>\n",
       "      <td>Absent</td>\n",
       "    </tr>\n",
       "  </tbody>\n",
       "</table>\n",
       "</div>"
      ],
      "text/plain": [
       "               Name              Email     Roll Attendance\n",
       "0       Emon Durjoy      emon@test.com   220304    Present\n",
       "1       Faruk Ahmed     Faruk@test.com   220450    Present\n",
       "2       Rakib Ahmed     Rakib@test.com   220876    Present\n",
       "3  Shahidul Hossain  Shahidul@test.com  2234583     Absent"
      ]
     },
     "execution_count": 9,
     "metadata": {},
     "output_type": "execute_result"
    }
   ],
   "source": [
    "df"
   ]
  },
  {
   "cell_type": "code",
   "execution_count": 10,
   "id": "2b8c7095",
   "metadata": {},
   "outputs": [
    {
     "name": "stdout",
     "output_type": "stream",
     "text": [
      "<class 'pandas.core.frame.DataFrame'>\n",
      "RangeIndex: 4 entries, 0 to 3\n",
      "Data columns (total 4 columns):\n",
      " #   Column      Non-Null Count  Dtype \n",
      "---  ------      --------------  ----- \n",
      " 0   Name        4 non-null      object\n",
      " 1   Email       4 non-null      object\n",
      " 2   Roll        4 non-null      int64 \n",
      " 3   Attendance  4 non-null      object\n",
      "dtypes: int64(1), object(3)\n",
      "memory usage: 256.0+ bytes\n"
     ]
    }
   ],
   "source": [
    "df.info() # print concise summary of DataFrame"
   ]
  },
  {
   "cell_type": "code",
   "execution_count": 4,
   "id": "d72ab556",
   "metadata": {},
   "outputs": [
    {
     "data": {
      "text/plain": [
       "0         Emon Durjoy\n",
       "1         Faruk Ahmed\n",
       "2         Rakib Ahmed\n",
       "3    Shahidul Hossain\n",
       "Name: Name, dtype: object"
      ]
     },
     "execution_count": 4,
     "metadata": {},
     "output_type": "execute_result"
    }
   ],
   "source": [
    "df[\"Name\"]"
   ]
  },
  {
   "cell_type": "code",
   "execution_count": 7,
   "id": "d1203969",
   "metadata": {},
   "outputs": [
    {
     "data": {
      "text/plain": [
       "Name          object\n",
       "Email         object\n",
       "Roll          object\n",
       "Attendance    object\n",
       "dtype: object"
      ]
     },
     "execution_count": 7,
     "metadata": {},
     "output_type": "execute_result"
    }
   ],
   "source": [
    "df.dtypes # print the data types of every column"
   ]
  },
  {
   "cell_type": "code",
   "execution_count": 8,
   "id": "bf51e3c3",
   "metadata": {},
   "outputs": [
    {
     "data": {
      "text/plain": [
       "(4, 4)"
      ]
     },
     "execution_count": 8,
     "metadata": {},
     "output_type": "execute_result"
    }
   ],
   "source": [
    "df.shape # print the size of df"
   ]
  },
  {
   "cell_type": "markdown",
   "id": "81d2db68",
   "metadata": {},
   "source": [
    "#### 2.3 Accessing Column and  Row\n",
    "\n",
    "\n",
    "#### 2.3.1 Accesing Column"
   ]
  },
  {
   "cell_type": "code",
   "execution_count": 9,
   "id": "905c7b83",
   "metadata": {},
   "outputs": [
    {
     "data": {
      "text/plain": [
       "0         Emon Durjoy\n",
       "1         Faruk Ahmed\n",
       "2         Rakib Ahmed\n",
       "3    Shahidul Hossain\n",
       "Name: Name, dtype: object"
      ]
     },
     "execution_count": 9,
     "metadata": {},
     "output_type": "execute_result"
    }
   ],
   "source": [
    "df[\"Name\"] "
   ]
  },
  {
   "cell_type": "code",
   "execution_count": 10,
   "id": "7fcfda33",
   "metadata": {},
   "outputs": [
    {
     "data": {
      "text/plain": [
       "0        emon@test.com\n",
       "1       Faruk@test.com\n",
       "2       Rakib@test.com\n",
       "3    Shahidul@test.com\n",
       "Name: Email, dtype: object"
      ]
     },
     "execution_count": 10,
     "metadata": {},
     "output_type": "execute_result"
    }
   ],
   "source": [
    "df[\"Email\"]"
   ]
  },
  {
   "cell_type": "markdown",
   "id": "df614846",
   "metadata": {},
   "source": [
    "##### 2.3.2 Accessing Row"
   ]
  },
  {
   "cell_type": "code",
   "execution_count": 41,
   "id": "8482f1b0",
   "metadata": {},
   "outputs": [
    {
     "data": {
      "text/plain": [
       "Name             Faruk Ahmed\n",
       "Email         Faruk@test.com\n",
       "Roll                  220450\n",
       "Attendance           Present\n",
       "First                  Faruk\n",
       "Last                   Ahmed\n",
       "Name: 1, dtype: object"
      ]
     },
     "execution_count": 41,
     "metadata": {},
     "output_type": "execute_result"
    }
   ],
   "source": [
    "df.loc[1] "
   ]
  },
  {
   "cell_type": "code",
   "execution_count": 42,
   "id": "130092aa",
   "metadata": {},
   "outputs": [
    {
     "data": {
      "text/plain": [
       "Name        Faruk Ahmed\n",
       "Email    Faruk@test.com\n",
       "Name: 1, dtype: object"
      ]
     },
     "execution_count": 42,
     "metadata": {},
     "output_type": "execute_result"
    }
   ],
   "source": [
    "df.loc[1, [\"Name\", \"Email\"]] "
   ]
  },
  {
   "cell_type": "code",
   "execution_count": 13,
   "id": "2399e86e",
   "metadata": {},
   "outputs": [
    {
     "data": {
      "text/plain": [
       "'Faruk Ahmed'"
      ]
     },
     "execution_count": 13,
     "metadata": {},
     "output_type": "execute_result"
    }
   ],
   "source": [
    "df.loc[1, \"Name\"]"
   ]
  },
  {
   "cell_type": "code",
   "execution_count": 14,
   "id": "943c5a13",
   "metadata": {},
   "outputs": [
    {
     "data": {
      "text/plain": [
       "Name            Emon Durjoy\n",
       "Email         emon@test.com\n",
       "Roll                 220304\n",
       "Attendance          Present\n",
       "Name: 0, dtype: object"
      ]
     },
     "execution_count": 14,
     "metadata": {},
     "output_type": "execute_result"
    }
   ],
   "source": [
    "df.iloc[0]"
   ]
  },
  {
   "cell_type": "code",
   "execution_count": 15,
   "id": "f2973c79",
   "metadata": {},
   "outputs": [
    {
     "data": {
      "text/plain": [
       "Name           Shahidul Hossain\n",
       "Email         Shahidul@test.com\n",
       "Roll                    2234583\n",
       "Attendance               Absent\n",
       "Name: 3, dtype: object"
      ]
     },
     "execution_count": 15,
     "metadata": {},
     "output_type": "execute_result"
    }
   ],
   "source": [
    "df.iloc[3]"
   ]
  },
  {
   "cell_type": "markdown",
   "id": "708e5642",
   "metadata": {},
   "source": [
    "### 2.4 Adding new cloumn from existing column"
   ]
  },
  {
   "cell_type": "code",
   "execution_count": 15,
   "id": "99b6b3ea",
   "metadata": {},
   "outputs": [
    {
     "data": {
      "text/plain": [
       "0         [Emon, Durjoy]\n",
       "1         [Faruk, Ahmed]\n",
       "2         [Rakib, Ahmed]\n",
       "3    [Shahidul, Hossain]\n",
       "Name: Name, dtype: object"
      ]
     },
     "execution_count": 15,
     "metadata": {},
     "output_type": "execute_result"
    }
   ],
   "source": [
    "df[\"Name\"].str.split(\" \")"
   ]
  },
  {
   "cell_type": "code",
   "execution_count": 16,
   "id": "66f09c65",
   "metadata": {},
   "outputs": [
    {
     "data": {
      "text/html": [
       "<div>\n",
       "<style scoped>\n",
       "    .dataframe tbody tr th:only-of-type {\n",
       "        vertical-align: middle;\n",
       "    }\n",
       "\n",
       "    .dataframe tbody tr th {\n",
       "        vertical-align: top;\n",
       "    }\n",
       "\n",
       "    .dataframe thead th {\n",
       "        text-align: right;\n",
       "    }\n",
       "</style>\n",
       "<table border=\"1\" class=\"dataframe\">\n",
       "  <thead>\n",
       "    <tr style=\"text-align: right;\">\n",
       "      <th></th>\n",
       "      <th>Name</th>\n",
       "      <th>Email</th>\n",
       "      <th>Roll</th>\n",
       "      <th>Attendance</th>\n",
       "      <th>First</th>\n",
       "    </tr>\n",
       "  </thead>\n",
       "  <tbody>\n",
       "    <tr>\n",
       "      <th>0</th>\n",
       "      <td>Emon Durjoy</td>\n",
       "      <td>emon@test.com</td>\n",
       "      <td>220304</td>\n",
       "      <td>Present</td>\n",
       "      <td>Emon</td>\n",
       "    </tr>\n",
       "    <tr>\n",
       "      <th>1</th>\n",
       "      <td>Faruk Ahmed</td>\n",
       "      <td>Faruk@test.com</td>\n",
       "      <td>220450</td>\n",
       "      <td>Present</td>\n",
       "      <td>Faruk</td>\n",
       "    </tr>\n",
       "    <tr>\n",
       "      <th>2</th>\n",
       "      <td>Rakib Ahmed</td>\n",
       "      <td>Rakib@test.com</td>\n",
       "      <td>220876</td>\n",
       "      <td>Present</td>\n",
       "      <td>Rakib</td>\n",
       "    </tr>\n",
       "    <tr>\n",
       "      <th>3</th>\n",
       "      <td>Shahidul Hossain</td>\n",
       "      <td>Shahidul@test.com</td>\n",
       "      <td>2234583</td>\n",
       "      <td>Absent</td>\n",
       "      <td>Shahidul</td>\n",
       "    </tr>\n",
       "  </tbody>\n",
       "</table>\n",
       "</div>"
      ],
      "text/plain": [
       "               Name              Email     Roll Attendance     First\n",
       "0       Emon Durjoy      emon@test.com   220304    Present      Emon\n",
       "1       Faruk Ahmed     Faruk@test.com   220450    Present     Faruk\n",
       "2       Rakib Ahmed     Rakib@test.com   220876    Present     Rakib\n",
       "3  Shahidul Hossain  Shahidul@test.com  2234583     Absent  Shahidul"
      ]
     },
     "execution_count": 16,
     "metadata": {},
     "output_type": "execute_result"
    }
   ],
   "source": [
    "df[\"First\"] = df[\"Name\"].str.split(\" \").str[0]\n",
    "df.head()"
   ]
  },
  {
   "cell_type": "code",
   "execution_count": 17,
   "id": "2ec06cb0",
   "metadata": {},
   "outputs": [
    {
     "data": {
      "text/html": [
       "<div>\n",
       "<style scoped>\n",
       "    .dataframe tbody tr th:only-of-type {\n",
       "        vertical-align: middle;\n",
       "    }\n",
       "\n",
       "    .dataframe tbody tr th {\n",
       "        vertical-align: top;\n",
       "    }\n",
       "\n",
       "    .dataframe thead th {\n",
       "        text-align: right;\n",
       "    }\n",
       "</style>\n",
       "<table border=\"1\" class=\"dataframe\">\n",
       "  <thead>\n",
       "    <tr style=\"text-align: right;\">\n",
       "      <th></th>\n",
       "      <th>Name</th>\n",
       "      <th>Email</th>\n",
       "      <th>Roll</th>\n",
       "      <th>Attendance</th>\n",
       "      <th>First</th>\n",
       "      <th>Last</th>\n",
       "    </tr>\n",
       "  </thead>\n",
       "  <tbody>\n",
       "    <tr>\n",
       "      <th>0</th>\n",
       "      <td>Emon Durjoy</td>\n",
       "      <td>emon@test.com</td>\n",
       "      <td>220304</td>\n",
       "      <td>Present</td>\n",
       "      <td>Emon</td>\n",
       "      <td>Durjoy</td>\n",
       "    </tr>\n",
       "    <tr>\n",
       "      <th>1</th>\n",
       "      <td>Faruk Ahmed</td>\n",
       "      <td>Faruk@test.com</td>\n",
       "      <td>220450</td>\n",
       "      <td>Present</td>\n",
       "      <td>Faruk</td>\n",
       "      <td>Ahmed</td>\n",
       "    </tr>\n",
       "    <tr>\n",
       "      <th>2</th>\n",
       "      <td>Rakib Ahmed</td>\n",
       "      <td>Rakib@test.com</td>\n",
       "      <td>220876</td>\n",
       "      <td>Present</td>\n",
       "      <td>Rakib</td>\n",
       "      <td>Ahmed</td>\n",
       "    </tr>\n",
       "    <tr>\n",
       "      <th>3</th>\n",
       "      <td>Shahidul Hossain</td>\n",
       "      <td>Shahidul@test.com</td>\n",
       "      <td>2234583</td>\n",
       "      <td>Absent</td>\n",
       "      <td>Shahidul</td>\n",
       "      <td>Hossain</td>\n",
       "    </tr>\n",
       "  </tbody>\n",
       "</table>\n",
       "</div>"
      ],
      "text/plain": [
       "               Name              Email     Roll Attendance     First     Last\n",
       "0       Emon Durjoy      emon@test.com   220304    Present      Emon   Durjoy\n",
       "1       Faruk Ahmed     Faruk@test.com   220450    Present     Faruk    Ahmed\n",
       "2       Rakib Ahmed     Rakib@test.com   220876    Present     Rakib    Ahmed\n",
       "3  Shahidul Hossain  Shahidul@test.com  2234583     Absent  Shahidul  Hossain"
      ]
     },
     "execution_count": 17,
     "metadata": {},
     "output_type": "execute_result"
    }
   ],
   "source": [
    "df[\"Last\"] = df[\"Name\"].str.split(\" \").str[1]\n",
    "df.head()"
   ]
  },
  {
   "cell_type": "markdown",
   "id": "d4ec0bfe",
   "metadata": {},
   "source": [
    "### 2.5 Filtering "
   ]
  },
  {
   "cell_type": "code",
   "execution_count": 43,
   "id": "697d2403",
   "metadata": {},
   "outputs": [
    {
     "data": {
      "text/plain": [
       "0     True\n",
       "1     True\n",
       "2     True\n",
       "3    False\n",
       "Name: Attendance, dtype: bool"
      ]
     },
     "execution_count": 43,
     "metadata": {},
     "output_type": "execute_result"
    }
   ],
   "source": [
    "df[\"Attendance\"] == \"Present\""
   ]
  },
  {
   "cell_type": "code",
   "execution_count": 14,
   "id": "0ba180eb",
   "metadata": {},
   "outputs": [
    {
     "data": {
      "text/html": [
       "<div>\n",
       "<style scoped>\n",
       "    .dataframe tbody tr th:only-of-type {\n",
       "        vertical-align: middle;\n",
       "    }\n",
       "\n",
       "    .dataframe tbody tr th {\n",
       "        vertical-align: top;\n",
       "    }\n",
       "\n",
       "    .dataframe thead th {\n",
       "        text-align: right;\n",
       "    }\n",
       "</style>\n",
       "<table border=\"1\" class=\"dataframe\">\n",
       "  <thead>\n",
       "    <tr style=\"text-align: right;\">\n",
       "      <th></th>\n",
       "      <th>Name</th>\n",
       "      <th>Email</th>\n",
       "      <th>Roll</th>\n",
       "      <th>Attendance</th>\n",
       "    </tr>\n",
       "  </thead>\n",
       "  <tbody>\n",
       "    <tr>\n",
       "      <th>0</th>\n",
       "      <td>Emon Durjoy</td>\n",
       "      <td>emon@test.com</td>\n",
       "      <td>220304</td>\n",
       "      <td>Present</td>\n",
       "    </tr>\n",
       "    <tr>\n",
       "      <th>1</th>\n",
       "      <td>Faruk Ahmed</td>\n",
       "      <td>Faruk@test.com</td>\n",
       "      <td>220450</td>\n",
       "      <td>Present</td>\n",
       "    </tr>\n",
       "    <tr>\n",
       "      <th>2</th>\n",
       "      <td>Rakib Ahmed</td>\n",
       "      <td>Rakib@test.com</td>\n",
       "      <td>220876</td>\n",
       "      <td>Present</td>\n",
       "    </tr>\n",
       "  </tbody>\n",
       "</table>\n",
       "</div>"
      ],
      "text/plain": [
       "          Name           Email    Roll Attendance\n",
       "0  Emon Durjoy   emon@test.com  220304    Present\n",
       "1  Faruk Ahmed  Faruk@test.com  220450    Present\n",
       "2  Rakib Ahmed  Rakib@test.com  220876    Present"
      ]
     },
     "execution_count": 14,
     "metadata": {},
     "output_type": "execute_result"
    }
   ],
   "source": [
    "filt = df[\"Attendance\"] == \"Present\"\n",
    "\n",
    "df[filt]"
   ]
  },
  {
   "cell_type": "code",
   "execution_count": 13,
   "id": "d5fd9fe1",
   "metadata": {},
   "outputs": [
    {
     "data": {
      "text/plain": [
       "0     True\n",
       "1     True\n",
       "2     True\n",
       "3    False\n",
       "Name: Attendance, dtype: bool"
      ]
     },
     "execution_count": 13,
     "metadata": {},
     "output_type": "execute_result"
    }
   ],
   "source": [
    "filt"
   ]
  },
  {
   "cell_type": "code",
   "execution_count": 45,
   "id": "0935bf76",
   "metadata": {},
   "outputs": [
    {
     "data": {
      "text/plain": [
       "0     emon@test.com\n",
       "1    Faruk@test.com\n",
       "2    Rakib@test.com\n",
       "Name: Email, dtype: object"
      ]
     },
     "execution_count": 45,
     "metadata": {},
     "output_type": "execute_result"
    }
   ],
   "source": [
    "df[filt][\"Email\"]"
   ]
  },
  {
   "cell_type": "code",
   "execution_count": 46,
   "id": "387bd181",
   "metadata": {},
   "outputs": [
    {
     "data": {
      "text/html": [
       "<div>\n",
       "<style scoped>\n",
       "    .dataframe tbody tr th:only-of-type {\n",
       "        vertical-align: middle;\n",
       "    }\n",
       "\n",
       "    .dataframe tbody tr th {\n",
       "        vertical-align: top;\n",
       "    }\n",
       "\n",
       "    .dataframe thead th {\n",
       "        text-align: right;\n",
       "    }\n",
       "</style>\n",
       "<table border=\"1\" class=\"dataframe\">\n",
       "  <thead>\n",
       "    <tr style=\"text-align: right;\">\n",
       "      <th></th>\n",
       "      <th>Email</th>\n",
       "      <th>Roll</th>\n",
       "    </tr>\n",
       "  </thead>\n",
       "  <tbody>\n",
       "    <tr>\n",
       "      <th>0</th>\n",
       "      <td>emon@test.com</td>\n",
       "      <td>220304</td>\n",
       "    </tr>\n",
       "    <tr>\n",
       "      <th>1</th>\n",
       "      <td>Faruk@test.com</td>\n",
       "      <td>220450</td>\n",
       "    </tr>\n",
       "    <tr>\n",
       "      <th>2</th>\n",
       "      <td>Rakib@test.com</td>\n",
       "      <td>220876</td>\n",
       "    </tr>\n",
       "  </tbody>\n",
       "</table>\n",
       "</div>"
      ],
      "text/plain": [
       "            Email    Roll\n",
       "0   emon@test.com  220304\n",
       "1  Faruk@test.com  220450\n",
       "2  Rakib@test.com  220876"
      ]
     },
     "execution_count": 46,
     "metadata": {},
     "output_type": "execute_result"
    }
   ],
   "source": [
    "df[filt][['Email', \"Roll\"]]"
   ]
  },
  {
   "cell_type": "code",
   "execution_count": 47,
   "id": "6b884034",
   "metadata": {},
   "outputs": [
    {
     "data": {
      "text/html": [
       "<div>\n",
       "<style scoped>\n",
       "    .dataframe tbody tr th:only-of-type {\n",
       "        vertical-align: middle;\n",
       "    }\n",
       "\n",
       "    .dataframe tbody tr th {\n",
       "        vertical-align: top;\n",
       "    }\n",
       "\n",
       "    .dataframe thead th {\n",
       "        text-align: right;\n",
       "    }\n",
       "</style>\n",
       "<table border=\"1\" class=\"dataframe\">\n",
       "  <thead>\n",
       "    <tr style=\"text-align: right;\">\n",
       "      <th></th>\n",
       "      <th>Name</th>\n",
       "      <th>Email</th>\n",
       "      <th>Roll</th>\n",
       "      <th>Attendance</th>\n",
       "      <th>First</th>\n",
       "      <th>Last</th>\n",
       "    </tr>\n",
       "  </thead>\n",
       "  <tbody>\n",
       "    <tr>\n",
       "      <th>0</th>\n",
       "      <td>Emon Durjoy</td>\n",
       "      <td>emon@test.com</td>\n",
       "      <td>220304</td>\n",
       "      <td>Present</td>\n",
       "      <td>Emon</td>\n",
       "      <td>Durjoy</td>\n",
       "    </tr>\n",
       "    <tr>\n",
       "      <th>1</th>\n",
       "      <td>Faruk Ahmed</td>\n",
       "      <td>Faruk@test.com</td>\n",
       "      <td>220450</td>\n",
       "      <td>Present</td>\n",
       "      <td>Faruk</td>\n",
       "      <td>Ahmed</td>\n",
       "    </tr>\n",
       "    <tr>\n",
       "      <th>2</th>\n",
       "      <td>Rakib Ahmed</td>\n",
       "      <td>Rakib@test.com</td>\n",
       "      <td>220876</td>\n",
       "      <td>Present</td>\n",
       "      <td>Rakib</td>\n",
       "      <td>Ahmed</td>\n",
       "    </tr>\n",
       "  </tbody>\n",
       "</table>\n",
       "</div>"
      ],
      "text/plain": [
       "          Name           Email    Roll Attendance  First    Last\n",
       "0  Emon Durjoy   emon@test.com  220304    Present   Emon  Durjoy\n",
       "1  Faruk Ahmed  Faruk@test.com  220450    Present  Faruk   Ahmed\n",
       "2  Rakib Ahmed  Rakib@test.com  220876    Present  Rakib   Ahmed"
      ]
     },
     "execution_count": 47,
     "metadata": {},
     "output_type": "execute_result"
    }
   ],
   "source": [
    "df[df[\"Attendance\"] == \"Present\"]"
   ]
  },
  {
   "cell_type": "code",
   "execution_count": 48,
   "id": "25a93ae6",
   "metadata": {},
   "outputs": [],
   "source": [
    "filt2 = (df[\"Attendance\"] == \"Present\") & (df[\"Roll\"] ==  \"220304\")"
   ]
  },
  {
   "cell_type": "code",
   "execution_count": 49,
   "id": "ff4b1a15",
   "metadata": {},
   "outputs": [
    {
     "data": {
      "text/html": [
       "<div>\n",
       "<style scoped>\n",
       "    .dataframe tbody tr th:only-of-type {\n",
       "        vertical-align: middle;\n",
       "    }\n",
       "\n",
       "    .dataframe tbody tr th {\n",
       "        vertical-align: top;\n",
       "    }\n",
       "\n",
       "    .dataframe thead th {\n",
       "        text-align: right;\n",
       "    }\n",
       "</style>\n",
       "<table border=\"1\" class=\"dataframe\">\n",
       "  <thead>\n",
       "    <tr style=\"text-align: right;\">\n",
       "      <th></th>\n",
       "      <th>Name</th>\n",
       "      <th>Email</th>\n",
       "      <th>Roll</th>\n",
       "      <th>Attendance</th>\n",
       "      <th>First</th>\n",
       "      <th>Last</th>\n",
       "    </tr>\n",
       "  </thead>\n",
       "  <tbody>\n",
       "    <tr>\n",
       "      <th>0</th>\n",
       "      <td>Emon Durjoy</td>\n",
       "      <td>emon@test.com</td>\n",
       "      <td>220304</td>\n",
       "      <td>Present</td>\n",
       "      <td>Emon</td>\n",
       "      <td>Durjoy</td>\n",
       "    </tr>\n",
       "  </tbody>\n",
       "</table>\n",
       "</div>"
      ],
      "text/plain": [
       "          Name          Email    Roll Attendance First    Last\n",
       "0  Emon Durjoy  emon@test.com  220304    Present  Emon  Durjoy"
      ]
     },
     "execution_count": 49,
     "metadata": {},
     "output_type": "execute_result"
    }
   ],
   "source": [
    "df[filt2]"
   ]
  },
  {
   "cell_type": "code",
   "execution_count": 51,
   "id": "0f4b48bb",
   "metadata": {},
   "outputs": [
    {
     "data": {
      "text/html": [
       "<div>\n",
       "<style scoped>\n",
       "    .dataframe tbody tr th:only-of-type {\n",
       "        vertical-align: middle;\n",
       "    }\n",
       "\n",
       "    .dataframe tbody tr th {\n",
       "        vertical-align: top;\n",
       "    }\n",
       "\n",
       "    .dataframe thead th {\n",
       "        text-align: right;\n",
       "    }\n",
       "</style>\n",
       "<table border=\"1\" class=\"dataframe\">\n",
       "  <thead>\n",
       "    <tr style=\"text-align: right;\">\n",
       "      <th></th>\n",
       "      <th>Name</th>\n",
       "      <th>Email</th>\n",
       "      <th>Roll</th>\n",
       "      <th>Attendance</th>\n",
       "      <th>First</th>\n",
       "      <th>Last</th>\n",
       "    </tr>\n",
       "  </thead>\n",
       "  <tbody>\n",
       "    <tr>\n",
       "      <th>1</th>\n",
       "      <td>Faruk Ahmed</td>\n",
       "      <td>Faruk@test.com</td>\n",
       "      <td>220450</td>\n",
       "      <td>Present</td>\n",
       "      <td>Faruk</td>\n",
       "      <td>Ahmed</td>\n",
       "    </tr>\n",
       "    <tr>\n",
       "      <th>2</th>\n",
       "      <td>Rakib Ahmed</td>\n",
       "      <td>Rakib@test.com</td>\n",
       "      <td>220876</td>\n",
       "      <td>Present</td>\n",
       "      <td>Rakib</td>\n",
       "      <td>Ahmed</td>\n",
       "    </tr>\n",
       "  </tbody>\n",
       "</table>\n",
       "</div>"
      ],
      "text/plain": [
       "          Name           Email    Roll Attendance  First   Last\n",
       "1  Faruk Ahmed  Faruk@test.com  220450    Present  Faruk  Ahmed\n",
       "2  Rakib Ahmed  Rakib@test.com  220876    Present  Rakib  Ahmed"
      ]
     },
     "execution_count": 51,
     "metadata": {},
     "output_type": "execute_result"
    }
   ],
   "source": [
    "filt3 = df[\"Last\"] == \"Ahmed\"\n",
    "df[filt3]"
   ]
  },
  {
   "cell_type": "markdown",
   "id": "490667de",
   "metadata": {},
   "source": [
    "### 2.6 Changing Column Name"
   ]
  },
  {
   "cell_type": "code",
   "execution_count": 52,
   "id": "0cf3d193",
   "metadata": {},
   "outputs": [
    {
     "data": {
      "text/plain": [
       "Index(['Name', 'Email', 'Roll', 'Attendance', 'First', 'Last'], dtype='object')"
      ]
     },
     "execution_count": 52,
     "metadata": {},
     "output_type": "execute_result"
    }
   ],
   "source": [
    "df.columns"
   ]
  },
  {
   "cell_type": "code",
   "execution_count": 20,
   "id": "ba2b417b",
   "metadata": {},
   "outputs": [
    {
     "data": {
      "text/plain": [
       "['name', 'email', 'roll', 'attendance', 'first', 'last']"
      ]
     },
     "execution_count": 20,
     "metadata": {},
     "output_type": "execute_result"
    }
   ],
   "source": [
    "[column.lower() for column in df.columns]"
   ]
  },
  {
   "cell_type": "code",
   "execution_count": 21,
   "id": "5ebe8829",
   "metadata": {},
   "outputs": [],
   "source": [
    "df.columns = [column.upper() for column in df.columns]"
   ]
  },
  {
   "cell_type": "code",
   "execution_count": 22,
   "id": "edf3dbb1",
   "metadata": {},
   "outputs": [
    {
     "data": {
      "text/html": [
       "<div>\n",
       "<style scoped>\n",
       "    .dataframe tbody tr th:only-of-type {\n",
       "        vertical-align: middle;\n",
       "    }\n",
       "\n",
       "    .dataframe tbody tr th {\n",
       "        vertical-align: top;\n",
       "    }\n",
       "\n",
       "    .dataframe thead th {\n",
       "        text-align: right;\n",
       "    }\n",
       "</style>\n",
       "<table border=\"1\" class=\"dataframe\">\n",
       "  <thead>\n",
       "    <tr style=\"text-align: right;\">\n",
       "      <th></th>\n",
       "      <th>NAME</th>\n",
       "      <th>EMAIL</th>\n",
       "      <th>ROLL</th>\n",
       "      <th>ATTENDANCE</th>\n",
       "      <th>FIRST</th>\n",
       "      <th>LAST</th>\n",
       "    </tr>\n",
       "  </thead>\n",
       "  <tbody>\n",
       "    <tr>\n",
       "      <th>0</th>\n",
       "      <td>Emon Durjoy</td>\n",
       "      <td>emon@test.com</td>\n",
       "      <td>220304</td>\n",
       "      <td>Present</td>\n",
       "      <td>Emon</td>\n",
       "      <td>Durjoy</td>\n",
       "    </tr>\n",
       "    <tr>\n",
       "      <th>1</th>\n",
       "      <td>Faruk Ahmed</td>\n",
       "      <td>Faruk@test.com</td>\n",
       "      <td>220450</td>\n",
       "      <td>Present</td>\n",
       "      <td>Faruk</td>\n",
       "      <td>Ahmed</td>\n",
       "    </tr>\n",
       "    <tr>\n",
       "      <th>2</th>\n",
       "      <td>Rakib Ahmed</td>\n",
       "      <td>Rakib@test.com</td>\n",
       "      <td>220876</td>\n",
       "      <td>Present</td>\n",
       "      <td>Rakib</td>\n",
       "      <td>Ahmed</td>\n",
       "    </tr>\n",
       "    <tr>\n",
       "      <th>3</th>\n",
       "      <td>Shahidul Hossain</td>\n",
       "      <td>Shahidul@test.com</td>\n",
       "      <td>2234583</td>\n",
       "      <td>Absent</td>\n",
       "      <td>Shahidul</td>\n",
       "      <td>Hossain</td>\n",
       "    </tr>\n",
       "  </tbody>\n",
       "</table>\n",
       "</div>"
      ],
      "text/plain": [
       "               NAME              EMAIL     ROLL ATTENDANCE     FIRST     LAST\n",
       "0       Emon Durjoy      emon@test.com   220304    Present      Emon   Durjoy\n",
       "1       Faruk Ahmed     Faruk@test.com   220450    Present     Faruk    Ahmed\n",
       "2       Rakib Ahmed     Rakib@test.com   220876    Present     Rakib    Ahmed\n",
       "3  Shahidul Hossain  Shahidul@test.com  2234583     Absent  Shahidul  Hossain"
      ]
     },
     "execution_count": 22,
     "metadata": {},
     "output_type": "execute_result"
    }
   ],
   "source": [
    "df"
   ]
  },
  {
   "cell_type": "code",
   "execution_count": 23,
   "id": "cd05f9c0",
   "metadata": {},
   "outputs": [],
   "source": [
    "df.columns = [column.lower() for column in df.columns]"
   ]
  },
  {
   "cell_type": "code",
   "execution_count": 24,
   "id": "84535393",
   "metadata": {},
   "outputs": [
    {
     "data": {
      "text/html": [
       "<div>\n",
       "<style scoped>\n",
       "    .dataframe tbody tr th:only-of-type {\n",
       "        vertical-align: middle;\n",
       "    }\n",
       "\n",
       "    .dataframe tbody tr th {\n",
       "        vertical-align: top;\n",
       "    }\n",
       "\n",
       "    .dataframe thead th {\n",
       "        text-align: right;\n",
       "    }\n",
       "</style>\n",
       "<table border=\"1\" class=\"dataframe\">\n",
       "  <thead>\n",
       "    <tr style=\"text-align: right;\">\n",
       "      <th></th>\n",
       "      <th>name</th>\n",
       "      <th>email</th>\n",
       "      <th>roll</th>\n",
       "      <th>attendance</th>\n",
       "      <th>first</th>\n",
       "      <th>last</th>\n",
       "    </tr>\n",
       "  </thead>\n",
       "  <tbody>\n",
       "    <tr>\n",
       "      <th>0</th>\n",
       "      <td>Emon Durjoy</td>\n",
       "      <td>emon@test.com</td>\n",
       "      <td>220304</td>\n",
       "      <td>Present</td>\n",
       "      <td>Emon</td>\n",
       "      <td>Durjoy</td>\n",
       "    </tr>\n",
       "    <tr>\n",
       "      <th>1</th>\n",
       "      <td>Faruk Ahmed</td>\n",
       "      <td>Faruk@test.com</td>\n",
       "      <td>220450</td>\n",
       "      <td>Present</td>\n",
       "      <td>Faruk</td>\n",
       "      <td>Ahmed</td>\n",
       "    </tr>\n",
       "    <tr>\n",
       "      <th>2</th>\n",
       "      <td>Rakib Ahmed</td>\n",
       "      <td>Rakib@test.com</td>\n",
       "      <td>220876</td>\n",
       "      <td>Present</td>\n",
       "      <td>Rakib</td>\n",
       "      <td>Ahmed</td>\n",
       "    </tr>\n",
       "    <tr>\n",
       "      <th>3</th>\n",
       "      <td>Shahidul Hossain</td>\n",
       "      <td>Shahidul@test.com</td>\n",
       "      <td>2234583</td>\n",
       "      <td>Absent</td>\n",
       "      <td>Shahidul</td>\n",
       "      <td>Hossain</td>\n",
       "    </tr>\n",
       "  </tbody>\n",
       "</table>\n",
       "</div>"
      ],
      "text/plain": [
       "               name              email     roll attendance     first     last\n",
       "0       Emon Durjoy      emon@test.com   220304    Present      Emon   Durjoy\n",
       "1       Faruk Ahmed     Faruk@test.com   220450    Present     Faruk    Ahmed\n",
       "2       Rakib Ahmed     Rakib@test.com   220876    Present     Rakib    Ahmed\n",
       "3  Shahidul Hossain  Shahidul@test.com  2234583     Absent  Shahidul  Hossain"
      ]
     },
     "execution_count": 24,
     "metadata": {},
     "output_type": "execute_result"
    }
   ],
   "source": [
    "df"
   ]
  },
  {
   "cell_type": "code",
   "execution_count": 25,
   "id": "00b2532d",
   "metadata": {},
   "outputs": [],
   "source": [
    "df.columns = [column.title() for column in df.columns]"
   ]
  },
  {
   "cell_type": "code",
   "execution_count": 26,
   "id": "e1606c9f",
   "metadata": {},
   "outputs": [
    {
     "data": {
      "text/html": [
       "<div>\n",
       "<style scoped>\n",
       "    .dataframe tbody tr th:only-of-type {\n",
       "        vertical-align: middle;\n",
       "    }\n",
       "\n",
       "    .dataframe tbody tr th {\n",
       "        vertical-align: top;\n",
       "    }\n",
       "\n",
       "    .dataframe thead th {\n",
       "        text-align: right;\n",
       "    }\n",
       "</style>\n",
       "<table border=\"1\" class=\"dataframe\">\n",
       "  <thead>\n",
       "    <tr style=\"text-align: right;\">\n",
       "      <th></th>\n",
       "      <th>Name</th>\n",
       "      <th>Email</th>\n",
       "      <th>Roll</th>\n",
       "      <th>Attendance</th>\n",
       "      <th>First</th>\n",
       "      <th>Last</th>\n",
       "    </tr>\n",
       "  </thead>\n",
       "  <tbody>\n",
       "    <tr>\n",
       "      <th>0</th>\n",
       "      <td>Emon Durjoy</td>\n",
       "      <td>emon@test.com</td>\n",
       "      <td>220304</td>\n",
       "      <td>Present</td>\n",
       "      <td>Emon</td>\n",
       "      <td>Durjoy</td>\n",
       "    </tr>\n",
       "    <tr>\n",
       "      <th>1</th>\n",
       "      <td>Faruk Ahmed</td>\n",
       "      <td>Faruk@test.com</td>\n",
       "      <td>220450</td>\n",
       "      <td>Present</td>\n",
       "      <td>Faruk</td>\n",
       "      <td>Ahmed</td>\n",
       "    </tr>\n",
       "    <tr>\n",
       "      <th>2</th>\n",
       "      <td>Rakib Ahmed</td>\n",
       "      <td>Rakib@test.com</td>\n",
       "      <td>220876</td>\n",
       "      <td>Present</td>\n",
       "      <td>Rakib</td>\n",
       "      <td>Ahmed</td>\n",
       "    </tr>\n",
       "    <tr>\n",
       "      <th>3</th>\n",
       "      <td>Shahidul Hossain</td>\n",
       "      <td>Shahidul@test.com</td>\n",
       "      <td>2234583</td>\n",
       "      <td>Absent</td>\n",
       "      <td>Shahidul</td>\n",
       "      <td>Hossain</td>\n",
       "    </tr>\n",
       "  </tbody>\n",
       "</table>\n",
       "</div>"
      ],
      "text/plain": [
       "               Name              Email     Roll Attendance     First     Last\n",
       "0       Emon Durjoy      emon@test.com   220304    Present      Emon   Durjoy\n",
       "1       Faruk Ahmed     Faruk@test.com   220450    Present     Faruk    Ahmed\n",
       "2       Rakib Ahmed     Rakib@test.com   220876    Present     Rakib    Ahmed\n",
       "3  Shahidul Hossain  Shahidul@test.com  2234583     Absent  Shahidul  Hossain"
      ]
     },
     "execution_count": 26,
     "metadata": {},
     "output_type": "execute_result"
    }
   ],
   "source": [
    "df"
   ]
  },
  {
   "cell_type": "code",
   "execution_count": 29,
   "id": "706df0cb",
   "metadata": {},
   "outputs": [],
   "source": [
    "df.columns = [\"Name\", \"Email\", \"Roll\", \"Attendance\", \"First Name\", \"Last Name\"]"
   ]
  },
  {
   "cell_type": "code",
   "execution_count": 30,
   "id": "5cdf2271",
   "metadata": {},
   "outputs": [
    {
     "data": {
      "text/html": [
       "<div>\n",
       "<style scoped>\n",
       "    .dataframe tbody tr th:only-of-type {\n",
       "        vertical-align: middle;\n",
       "    }\n",
       "\n",
       "    .dataframe tbody tr th {\n",
       "        vertical-align: top;\n",
       "    }\n",
       "\n",
       "    .dataframe thead th {\n",
       "        text-align: right;\n",
       "    }\n",
       "</style>\n",
       "<table border=\"1\" class=\"dataframe\">\n",
       "  <thead>\n",
       "    <tr style=\"text-align: right;\">\n",
       "      <th></th>\n",
       "      <th>Name</th>\n",
       "      <th>Email</th>\n",
       "      <th>Roll</th>\n",
       "      <th>Attendance</th>\n",
       "      <th>First Name</th>\n",
       "      <th>Last Name</th>\n",
       "    </tr>\n",
       "  </thead>\n",
       "  <tbody>\n",
       "    <tr>\n",
       "      <th>0</th>\n",
       "      <td>Emon Durjoy</td>\n",
       "      <td>emon@test.com</td>\n",
       "      <td>220304</td>\n",
       "      <td>Present</td>\n",
       "      <td>Emon</td>\n",
       "      <td>Durjoy</td>\n",
       "    </tr>\n",
       "    <tr>\n",
       "      <th>1</th>\n",
       "      <td>Faruk Ahmed</td>\n",
       "      <td>Faruk@test.com</td>\n",
       "      <td>220450</td>\n",
       "      <td>Present</td>\n",
       "      <td>Faruk</td>\n",
       "      <td>Ahmed</td>\n",
       "    </tr>\n",
       "    <tr>\n",
       "      <th>2</th>\n",
       "      <td>Rakib Ahmed</td>\n",
       "      <td>Rakib@test.com</td>\n",
       "      <td>220876</td>\n",
       "      <td>Present</td>\n",
       "      <td>Rakib</td>\n",
       "      <td>Ahmed</td>\n",
       "    </tr>\n",
       "    <tr>\n",
       "      <th>3</th>\n",
       "      <td>Shahidul Hossain</td>\n",
       "      <td>Shahidul@test.com</td>\n",
       "      <td>2234583</td>\n",
       "      <td>Absent</td>\n",
       "      <td>Shahidul</td>\n",
       "      <td>Hossain</td>\n",
       "    </tr>\n",
       "  </tbody>\n",
       "</table>\n",
       "</div>"
      ],
      "text/plain": [
       "               Name              Email     Roll Attendance First Name  \\\n",
       "0       Emon Durjoy      emon@test.com   220304    Present       Emon   \n",
       "1       Faruk Ahmed     Faruk@test.com   220450    Present      Faruk   \n",
       "2       Rakib Ahmed     Rakib@test.com   220876    Present      Rakib   \n",
       "3  Shahidul Hossain  Shahidul@test.com  2234583     Absent   Shahidul   \n",
       "\n",
       "  Last Name  \n",
       "0    Durjoy  \n",
       "1     Ahmed  \n",
       "2     Ahmed  \n",
       "3   Hossain  "
      ]
     },
     "execution_count": 30,
     "metadata": {},
     "output_type": "execute_result"
    }
   ],
   "source": [
    "df.head()"
   ]
  },
  {
   "cell_type": "code",
   "execution_count": 31,
   "id": "cea692cd",
   "metadata": {},
   "outputs": [],
   "source": [
    "df.columns = df.columns.str.replace(\" \", \"_\")"
   ]
  },
  {
   "cell_type": "code",
   "execution_count": 32,
   "id": "93411ebf",
   "metadata": {},
   "outputs": [
    {
     "data": {
      "text/html": [
       "<div>\n",
       "<style scoped>\n",
       "    .dataframe tbody tr th:only-of-type {\n",
       "        vertical-align: middle;\n",
       "    }\n",
       "\n",
       "    .dataframe tbody tr th {\n",
       "        vertical-align: top;\n",
       "    }\n",
       "\n",
       "    .dataframe thead th {\n",
       "        text-align: right;\n",
       "    }\n",
       "</style>\n",
       "<table border=\"1\" class=\"dataframe\">\n",
       "  <thead>\n",
       "    <tr style=\"text-align: right;\">\n",
       "      <th></th>\n",
       "      <th>Name</th>\n",
       "      <th>Email</th>\n",
       "      <th>Roll</th>\n",
       "      <th>Attendance</th>\n",
       "      <th>First_Name</th>\n",
       "      <th>Last_Name</th>\n",
       "    </tr>\n",
       "  </thead>\n",
       "  <tbody>\n",
       "    <tr>\n",
       "      <th>0</th>\n",
       "      <td>Emon Durjoy</td>\n",
       "      <td>emon@test.com</td>\n",
       "      <td>220304</td>\n",
       "      <td>Present</td>\n",
       "      <td>Emon</td>\n",
       "      <td>Durjoy</td>\n",
       "    </tr>\n",
       "    <tr>\n",
       "      <th>1</th>\n",
       "      <td>Faruk Ahmed</td>\n",
       "      <td>Faruk@test.com</td>\n",
       "      <td>220450</td>\n",
       "      <td>Present</td>\n",
       "      <td>Faruk</td>\n",
       "      <td>Ahmed</td>\n",
       "    </tr>\n",
       "    <tr>\n",
       "      <th>2</th>\n",
       "      <td>Rakib Ahmed</td>\n",
       "      <td>Rakib@test.com</td>\n",
       "      <td>220876</td>\n",
       "      <td>Present</td>\n",
       "      <td>Rakib</td>\n",
       "      <td>Ahmed</td>\n",
       "    </tr>\n",
       "    <tr>\n",
       "      <th>3</th>\n",
       "      <td>Shahidul Hossain</td>\n",
       "      <td>Shahidul@test.com</td>\n",
       "      <td>2234583</td>\n",
       "      <td>Absent</td>\n",
       "      <td>Shahidul</td>\n",
       "      <td>Hossain</td>\n",
       "    </tr>\n",
       "  </tbody>\n",
       "</table>\n",
       "</div>"
      ],
      "text/plain": [
       "               Name              Email     Roll Attendance First_Name  \\\n",
       "0       Emon Durjoy      emon@test.com   220304    Present       Emon   \n",
       "1       Faruk Ahmed     Faruk@test.com   220450    Present      Faruk   \n",
       "2       Rakib Ahmed     Rakib@test.com   220876    Present      Rakib   \n",
       "3  Shahidul Hossain  Shahidul@test.com  2234583     Absent   Shahidul   \n",
       "\n",
       "  Last_Name  \n",
       "0    Durjoy  \n",
       "1     Ahmed  \n",
       "2     Ahmed  \n",
       "3   Hossain  "
      ]
     },
     "execution_count": 32,
     "metadata": {},
     "output_type": "execute_result"
    }
   ],
   "source": [
    "df"
   ]
  },
  {
   "cell_type": "code",
   "execution_count": 33,
   "id": "d219f0fb",
   "metadata": {},
   "outputs": [],
   "source": [
    "df.columns = df.columns.str.replace(\"_\", \" \")"
   ]
  },
  {
   "cell_type": "code",
   "execution_count": 34,
   "id": "60889c15",
   "metadata": {},
   "outputs": [
    {
     "data": {
      "text/html": [
       "<div>\n",
       "<style scoped>\n",
       "    .dataframe tbody tr th:only-of-type {\n",
       "        vertical-align: middle;\n",
       "    }\n",
       "\n",
       "    .dataframe tbody tr th {\n",
       "        vertical-align: top;\n",
       "    }\n",
       "\n",
       "    .dataframe thead th {\n",
       "        text-align: right;\n",
       "    }\n",
       "</style>\n",
       "<table border=\"1\" class=\"dataframe\">\n",
       "  <thead>\n",
       "    <tr style=\"text-align: right;\">\n",
       "      <th></th>\n",
       "      <th>Name</th>\n",
       "      <th>Email</th>\n",
       "      <th>Roll</th>\n",
       "      <th>Attendance</th>\n",
       "      <th>First Name</th>\n",
       "      <th>Last Name</th>\n",
       "    </tr>\n",
       "  </thead>\n",
       "  <tbody>\n",
       "    <tr>\n",
       "      <th>0</th>\n",
       "      <td>Emon Durjoy</td>\n",
       "      <td>emon@test.com</td>\n",
       "      <td>220304</td>\n",
       "      <td>Present</td>\n",
       "      <td>Emon</td>\n",
       "      <td>Durjoy</td>\n",
       "    </tr>\n",
       "    <tr>\n",
       "      <th>1</th>\n",
       "      <td>Faruk Ahmed</td>\n",
       "      <td>Faruk@test.com</td>\n",
       "      <td>220450</td>\n",
       "      <td>Present</td>\n",
       "      <td>Faruk</td>\n",
       "      <td>Ahmed</td>\n",
       "    </tr>\n",
       "    <tr>\n",
       "      <th>2</th>\n",
       "      <td>Rakib Ahmed</td>\n",
       "      <td>Rakib@test.com</td>\n",
       "      <td>220876</td>\n",
       "      <td>Present</td>\n",
       "      <td>Rakib</td>\n",
       "      <td>Ahmed</td>\n",
       "    </tr>\n",
       "    <tr>\n",
       "      <th>3</th>\n",
       "      <td>Shahidul Hossain</td>\n",
       "      <td>Shahidul@test.com</td>\n",
       "      <td>2234583</td>\n",
       "      <td>Absent</td>\n",
       "      <td>Shahidul</td>\n",
       "      <td>Hossain</td>\n",
       "    </tr>\n",
       "  </tbody>\n",
       "</table>\n",
       "</div>"
      ],
      "text/plain": [
       "               Name              Email     Roll Attendance First Name  \\\n",
       "0       Emon Durjoy      emon@test.com   220304    Present       Emon   \n",
       "1       Faruk Ahmed     Faruk@test.com   220450    Present      Faruk   \n",
       "2       Rakib Ahmed     Rakib@test.com   220876    Present      Rakib   \n",
       "3  Shahidul Hossain  Shahidul@test.com  2234583     Absent   Shahidul   \n",
       "\n",
       "  Last Name  \n",
       "0    Durjoy  \n",
       "1     Ahmed  \n",
       "2     Ahmed  \n",
       "3   Hossain  "
      ]
     },
     "execution_count": 34,
     "metadata": {},
     "output_type": "execute_result"
    }
   ],
   "source": [
    "df"
   ]
  },
  {
   "cell_type": "markdown",
   "id": "1e7e5a51",
   "metadata": {},
   "source": [
    "### 2.7 Changing row"
   ]
  },
  {
   "cell_type": "code",
   "execution_count": 35,
   "id": "20e4cd02",
   "metadata": {},
   "outputs": [],
   "source": [
    "df.loc[1] = [\"Mahfuz Mozumder\", \"mahfuz@company.com\", \"2230843\", \"Absent\", \"Mahfuz\", \"Mozumder\"]"
   ]
  },
  {
   "cell_type": "code",
   "execution_count": 36,
   "id": "c9dd6b7a",
   "metadata": {},
   "outputs": [
    {
     "data": {
      "text/html": [
       "<div>\n",
       "<style scoped>\n",
       "    .dataframe tbody tr th:only-of-type {\n",
       "        vertical-align: middle;\n",
       "    }\n",
       "\n",
       "    .dataframe tbody tr th {\n",
       "        vertical-align: top;\n",
       "    }\n",
       "\n",
       "    .dataframe thead th {\n",
       "        text-align: right;\n",
       "    }\n",
       "</style>\n",
       "<table border=\"1\" class=\"dataframe\">\n",
       "  <thead>\n",
       "    <tr style=\"text-align: right;\">\n",
       "      <th></th>\n",
       "      <th>Name</th>\n",
       "      <th>Email</th>\n",
       "      <th>Roll</th>\n",
       "      <th>Attendance</th>\n",
       "      <th>First Name</th>\n",
       "      <th>Last Name</th>\n",
       "    </tr>\n",
       "  </thead>\n",
       "  <tbody>\n",
       "    <tr>\n",
       "      <th>0</th>\n",
       "      <td>Emon Durjoy</td>\n",
       "      <td>emon@test.com</td>\n",
       "      <td>220304</td>\n",
       "      <td>Present</td>\n",
       "      <td>Emon</td>\n",
       "      <td>Durjoy</td>\n",
       "    </tr>\n",
       "    <tr>\n",
       "      <th>1</th>\n",
       "      <td>Mahfuz Mozumder</td>\n",
       "      <td>mahfuz@company.com</td>\n",
       "      <td>2230843</td>\n",
       "      <td>Absent</td>\n",
       "      <td>Mahfuz</td>\n",
       "      <td>Mozumder</td>\n",
       "    </tr>\n",
       "    <tr>\n",
       "      <th>2</th>\n",
       "      <td>Rakib Ahmed</td>\n",
       "      <td>Rakib@test.com</td>\n",
       "      <td>220876</td>\n",
       "      <td>Present</td>\n",
       "      <td>Rakib</td>\n",
       "      <td>Ahmed</td>\n",
       "    </tr>\n",
       "    <tr>\n",
       "      <th>3</th>\n",
       "      <td>Shahidul Hossain</td>\n",
       "      <td>Shahidul@test.com</td>\n",
       "      <td>2234583</td>\n",
       "      <td>Absent</td>\n",
       "      <td>Shahidul</td>\n",
       "      <td>Hossain</td>\n",
       "    </tr>\n",
       "  </tbody>\n",
       "</table>\n",
       "</div>"
      ],
      "text/plain": [
       "               Name               Email     Roll Attendance First Name  \\\n",
       "0       Emon Durjoy       emon@test.com   220304    Present       Emon   \n",
       "1   Mahfuz Mozumder  mahfuz@company.com  2230843     Absent     Mahfuz   \n",
       "2       Rakib Ahmed      Rakib@test.com   220876    Present      Rakib   \n",
       "3  Shahidul Hossain   Shahidul@test.com  2234583     Absent   Shahidul   \n",
       "\n",
       "  Last Name  \n",
       "0    Durjoy  \n",
       "1  Mozumder  \n",
       "2     Ahmed  \n",
       "3   Hossain  "
      ]
     },
     "execution_count": 36,
     "metadata": {},
     "output_type": "execute_result"
    }
   ],
   "source": [
    "df"
   ]
  },
  {
   "cell_type": "code",
   "execution_count": 74,
   "id": "c177d017",
   "metadata": {},
   "outputs": [],
   "source": [
    "df.loc[1, [\"Email\", \"Attendance\"]] = [\"mozumder@company.com\", \"Present\"]"
   ]
  },
  {
   "cell_type": "code",
   "execution_count": 75,
   "id": "184d9f37",
   "metadata": {},
   "outputs": [
    {
     "data": {
      "text/html": [
       "<div>\n",
       "<style scoped>\n",
       "    .dataframe tbody tr th:only-of-type {\n",
       "        vertical-align: middle;\n",
       "    }\n",
       "\n",
       "    .dataframe tbody tr th {\n",
       "        vertical-align: top;\n",
       "    }\n",
       "\n",
       "    .dataframe thead th {\n",
       "        text-align: right;\n",
       "    }\n",
       "</style>\n",
       "<table border=\"1\" class=\"dataframe\">\n",
       "  <thead>\n",
       "    <tr style=\"text-align: right;\">\n",
       "      <th></th>\n",
       "      <th>Name</th>\n",
       "      <th>Email</th>\n",
       "      <th>Roll</th>\n",
       "      <th>Attendance</th>\n",
       "      <th>First Name</th>\n",
       "      <th>Last Name</th>\n",
       "    </tr>\n",
       "  </thead>\n",
       "  <tbody>\n",
       "    <tr>\n",
       "      <th>0</th>\n",
       "      <td>Emon Durjoy</td>\n",
       "      <td>emon@test.com</td>\n",
       "      <td>220304</td>\n",
       "      <td>Present</td>\n",
       "      <td>Emon</td>\n",
       "      <td>Durjoy</td>\n",
       "    </tr>\n",
       "    <tr>\n",
       "      <th>1</th>\n",
       "      <td>Mahfuz Mozumder</td>\n",
       "      <td>mozumder@company.com</td>\n",
       "      <td>2230843</td>\n",
       "      <td>Present</td>\n",
       "      <td>Mahfuz</td>\n",
       "      <td>Mozumder</td>\n",
       "    </tr>\n",
       "    <tr>\n",
       "      <th>2</th>\n",
       "      <td>Rakib Ahmed</td>\n",
       "      <td>Rakib@test.com</td>\n",
       "      <td>220876</td>\n",
       "      <td>Present</td>\n",
       "      <td>Rakib</td>\n",
       "      <td>Ahmed</td>\n",
       "    </tr>\n",
       "    <tr>\n",
       "      <th>3</th>\n",
       "      <td>Shahidul Hossain</td>\n",
       "      <td>Shahidul@test.com</td>\n",
       "      <td>2234583</td>\n",
       "      <td>Absent</td>\n",
       "      <td>Shahidul</td>\n",
       "      <td>Hossain</td>\n",
       "    </tr>\n",
       "  </tbody>\n",
       "</table>\n",
       "</div>"
      ],
      "text/plain": [
       "               Name                 Email     Roll Attendance First Name  \\\n",
       "0       Emon Durjoy         emon@test.com   220304    Present       Emon   \n",
       "1   Mahfuz Mozumder  mozumder@company.com  2230843    Present     Mahfuz   \n",
       "2       Rakib Ahmed        Rakib@test.com   220876    Present      Rakib   \n",
       "3  Shahidul Hossain     Shahidul@test.com  2234583     Absent   Shahidul   \n",
       "\n",
       "  Last Name  \n",
       "0    Durjoy  \n",
       "1  Mozumder  \n",
       "2     Ahmed  \n",
       "3   Hossain  "
      ]
     },
     "execution_count": 75,
     "metadata": {},
     "output_type": "execute_result"
    }
   ],
   "source": [
    "df"
   ]
  },
  {
   "cell_type": "markdown",
   "id": "a1c384e5",
   "metadata": {},
   "source": [
    "### 2.8 Dropping or removing Columns"
   ]
  },
  {
   "cell_type": "code",
   "execution_count": 79,
   "id": "fe38c759",
   "metadata": {},
   "outputs": [
    {
     "ename": "KeyError",
     "evalue": "\"['Name'] not found in axis\"",
     "output_type": "error",
     "traceback": [
      "\u001b[1;31m---------------------------------------------------------------------------\u001b[0m",
      "\u001b[1;31mKeyError\u001b[0m                                  Traceback (most recent call last)",
      "Cell \u001b[1;32mIn [79], line 1\u001b[0m\n\u001b[1;32m----> 1\u001b[0m \u001b[43mdf\u001b[49m\u001b[38;5;241;43m.\u001b[39;49m\u001b[43mdrop\u001b[49m\u001b[43m(\u001b[49m\u001b[38;5;124;43m\"\u001b[39;49m\u001b[38;5;124;43mName\u001b[39;49m\u001b[38;5;124;43m\"\u001b[39;49m\u001b[43m)\u001b[49m\n",
      "File \u001b[1;32m~\\AppData\\Local\\Programs\\Python\\Python310\\lib\\site-packages\\pandas\\util\\_decorators.py:317\u001b[0m, in \u001b[0;36mdeprecate_nonkeyword_arguments.<locals>.decorate.<locals>.wrapper\u001b[1;34m(*args, **kwargs)\u001b[0m\n\u001b[0;32m    311\u001b[0m \u001b[38;5;28;01mif\u001b[39;00m \u001b[38;5;28mlen\u001b[39m(args) \u001b[38;5;241m>\u001b[39m num_allow_args:\n\u001b[0;32m    312\u001b[0m     warnings\u001b[38;5;241m.\u001b[39mwarn(\n\u001b[0;32m    313\u001b[0m         msg\u001b[38;5;241m.\u001b[39mformat(arguments\u001b[38;5;241m=\u001b[39marguments),\n\u001b[0;32m    314\u001b[0m         \u001b[38;5;167;01mFutureWarning\u001b[39;00m,\n\u001b[0;32m    315\u001b[0m         stacklevel\u001b[38;5;241m=\u001b[39mfind_stack_level(inspect\u001b[38;5;241m.\u001b[39mcurrentframe()),\n\u001b[0;32m    316\u001b[0m     )\n\u001b[1;32m--> 317\u001b[0m \u001b[38;5;28;01mreturn\u001b[39;00m func(\u001b[38;5;241m*\u001b[39margs, \u001b[38;5;241m*\u001b[39m\u001b[38;5;241m*\u001b[39mkwargs)\n",
      "File \u001b[1;32m~\\AppData\\Local\\Programs\\Python\\Python310\\lib\\site-packages\\pandas\\core\\frame.py:5391\u001b[0m, in \u001b[0;36mDataFrame.drop\u001b[1;34m(self, labels, axis, index, columns, level, inplace, errors)\u001b[0m\n\u001b[0;32m   5243\u001b[0m \u001b[38;5;129m@deprecate_nonkeyword_arguments\u001b[39m(version\u001b[38;5;241m=\u001b[39m\u001b[38;5;28;01mNone\u001b[39;00m, allowed_args\u001b[38;5;241m=\u001b[39m[\u001b[38;5;124m\"\u001b[39m\u001b[38;5;124mself\u001b[39m\u001b[38;5;124m\"\u001b[39m, \u001b[38;5;124m\"\u001b[39m\u001b[38;5;124mlabels\u001b[39m\u001b[38;5;124m\"\u001b[39m])\n\u001b[0;32m   5244\u001b[0m \u001b[38;5;28;01mdef\u001b[39;00m \u001b[38;5;21mdrop\u001b[39m(  \u001b[38;5;66;03m# type: ignore[override]\u001b[39;00m\n\u001b[0;32m   5245\u001b[0m     \u001b[38;5;28mself\u001b[39m,\n\u001b[1;32m   (...)\u001b[0m\n\u001b[0;32m   5252\u001b[0m     errors: IgnoreRaise \u001b[38;5;241m=\u001b[39m \u001b[38;5;124m\"\u001b[39m\u001b[38;5;124mraise\u001b[39m\u001b[38;5;124m\"\u001b[39m,\n\u001b[0;32m   5253\u001b[0m ) \u001b[38;5;241m-\u001b[39m\u001b[38;5;241m>\u001b[39m DataFrame \u001b[38;5;241m|\u001b[39m \u001b[38;5;28;01mNone\u001b[39;00m:\n\u001b[0;32m   5254\u001b[0m     \u001b[38;5;124;03m\"\"\"\u001b[39;00m\n\u001b[0;32m   5255\u001b[0m \u001b[38;5;124;03m    Drop specified labels from rows or columns.\u001b[39;00m\n\u001b[0;32m   5256\u001b[0m \n\u001b[1;32m   (...)\u001b[0m\n\u001b[0;32m   5389\u001b[0m \u001b[38;5;124;03m            weight  1.0     0.8\u001b[39;00m\n\u001b[0;32m   5390\u001b[0m \u001b[38;5;124;03m    \"\"\"\u001b[39;00m\n\u001b[1;32m-> 5391\u001b[0m     \u001b[38;5;28;01mreturn\u001b[39;00m \u001b[38;5;28;43msuper\u001b[39;49m\u001b[43m(\u001b[49m\u001b[43m)\u001b[49m\u001b[38;5;241;43m.\u001b[39;49m\u001b[43mdrop\u001b[49m\u001b[43m(\u001b[49m\n\u001b[0;32m   5392\u001b[0m \u001b[43m        \u001b[49m\u001b[43mlabels\u001b[49m\u001b[38;5;241;43m=\u001b[39;49m\u001b[43mlabels\u001b[49m\u001b[43m,\u001b[49m\n\u001b[0;32m   5393\u001b[0m \u001b[43m        \u001b[49m\u001b[43maxis\u001b[49m\u001b[38;5;241;43m=\u001b[39;49m\u001b[43maxis\u001b[49m\u001b[43m,\u001b[49m\n\u001b[0;32m   5394\u001b[0m \u001b[43m        \u001b[49m\u001b[43mindex\u001b[49m\u001b[38;5;241;43m=\u001b[39;49m\u001b[43mindex\u001b[49m\u001b[43m,\u001b[49m\n\u001b[0;32m   5395\u001b[0m \u001b[43m        \u001b[49m\u001b[43mcolumns\u001b[49m\u001b[38;5;241;43m=\u001b[39;49m\u001b[43mcolumns\u001b[49m\u001b[43m,\u001b[49m\n\u001b[0;32m   5396\u001b[0m \u001b[43m        \u001b[49m\u001b[43mlevel\u001b[49m\u001b[38;5;241;43m=\u001b[39;49m\u001b[43mlevel\u001b[49m\u001b[43m,\u001b[49m\n\u001b[0;32m   5397\u001b[0m \u001b[43m        \u001b[49m\u001b[43minplace\u001b[49m\u001b[38;5;241;43m=\u001b[39;49m\u001b[43minplace\u001b[49m\u001b[43m,\u001b[49m\n\u001b[0;32m   5398\u001b[0m \u001b[43m        \u001b[49m\u001b[43merrors\u001b[49m\u001b[38;5;241;43m=\u001b[39;49m\u001b[43merrors\u001b[49m\u001b[43m,\u001b[49m\n\u001b[0;32m   5399\u001b[0m \u001b[43m    \u001b[49m\u001b[43m)\u001b[49m\n",
      "File \u001b[1;32m~\\AppData\\Local\\Programs\\Python\\Python310\\lib\\site-packages\\pandas\\util\\_decorators.py:317\u001b[0m, in \u001b[0;36mdeprecate_nonkeyword_arguments.<locals>.decorate.<locals>.wrapper\u001b[1;34m(*args, **kwargs)\u001b[0m\n\u001b[0;32m    311\u001b[0m \u001b[38;5;28;01mif\u001b[39;00m \u001b[38;5;28mlen\u001b[39m(args) \u001b[38;5;241m>\u001b[39m num_allow_args:\n\u001b[0;32m    312\u001b[0m     warnings\u001b[38;5;241m.\u001b[39mwarn(\n\u001b[0;32m    313\u001b[0m         msg\u001b[38;5;241m.\u001b[39mformat(arguments\u001b[38;5;241m=\u001b[39marguments),\n\u001b[0;32m    314\u001b[0m         \u001b[38;5;167;01mFutureWarning\u001b[39;00m,\n\u001b[0;32m    315\u001b[0m         stacklevel\u001b[38;5;241m=\u001b[39mfind_stack_level(inspect\u001b[38;5;241m.\u001b[39mcurrentframe()),\n\u001b[0;32m    316\u001b[0m     )\n\u001b[1;32m--> 317\u001b[0m \u001b[38;5;28;01mreturn\u001b[39;00m func(\u001b[38;5;241m*\u001b[39margs, \u001b[38;5;241m*\u001b[39m\u001b[38;5;241m*\u001b[39mkwargs)\n",
      "File \u001b[1;32m~\\AppData\\Local\\Programs\\Python\\Python310\\lib\\site-packages\\pandas\\core\\generic.py:4510\u001b[0m, in \u001b[0;36mNDFrame.drop\u001b[1;34m(self, labels, axis, index, columns, level, inplace, errors)\u001b[0m\n\u001b[0;32m   4508\u001b[0m \u001b[38;5;28;01mfor\u001b[39;00m axis, labels \u001b[38;5;129;01min\u001b[39;00m axes\u001b[38;5;241m.\u001b[39mitems():\n\u001b[0;32m   4509\u001b[0m     \u001b[38;5;28;01mif\u001b[39;00m labels \u001b[38;5;129;01mis\u001b[39;00m \u001b[38;5;129;01mnot\u001b[39;00m \u001b[38;5;28;01mNone\u001b[39;00m:\n\u001b[1;32m-> 4510\u001b[0m         obj \u001b[38;5;241m=\u001b[39m \u001b[43mobj\u001b[49m\u001b[38;5;241;43m.\u001b[39;49m\u001b[43m_drop_axis\u001b[49m\u001b[43m(\u001b[49m\u001b[43mlabels\u001b[49m\u001b[43m,\u001b[49m\u001b[43m \u001b[49m\u001b[43maxis\u001b[49m\u001b[43m,\u001b[49m\u001b[43m \u001b[49m\u001b[43mlevel\u001b[49m\u001b[38;5;241;43m=\u001b[39;49m\u001b[43mlevel\u001b[49m\u001b[43m,\u001b[49m\u001b[43m \u001b[49m\u001b[43merrors\u001b[49m\u001b[38;5;241;43m=\u001b[39;49m\u001b[43merrors\u001b[49m\u001b[43m)\u001b[49m\n\u001b[0;32m   4512\u001b[0m \u001b[38;5;28;01mif\u001b[39;00m inplace:\n\u001b[0;32m   4513\u001b[0m     \u001b[38;5;28mself\u001b[39m\u001b[38;5;241m.\u001b[39m_update_inplace(obj)\n",
      "File \u001b[1;32m~\\AppData\\Local\\Programs\\Python\\Python310\\lib\\site-packages\\pandas\\core\\generic.py:4551\u001b[0m, in \u001b[0;36mNDFrame._drop_axis\u001b[1;34m(self, labels, axis, level, errors, only_slice)\u001b[0m\n\u001b[0;32m   4549\u001b[0m         new_axis \u001b[38;5;241m=\u001b[39m axis\u001b[38;5;241m.\u001b[39mdrop(labels, level\u001b[38;5;241m=\u001b[39mlevel, errors\u001b[38;5;241m=\u001b[39merrors)\n\u001b[0;32m   4550\u001b[0m     \u001b[38;5;28;01melse\u001b[39;00m:\n\u001b[1;32m-> 4551\u001b[0m         new_axis \u001b[38;5;241m=\u001b[39m \u001b[43maxis\u001b[49m\u001b[38;5;241;43m.\u001b[39;49m\u001b[43mdrop\u001b[49m\u001b[43m(\u001b[49m\u001b[43mlabels\u001b[49m\u001b[43m,\u001b[49m\u001b[43m \u001b[49m\u001b[43merrors\u001b[49m\u001b[38;5;241;43m=\u001b[39;49m\u001b[43merrors\u001b[49m\u001b[43m)\u001b[49m\n\u001b[0;32m   4552\u001b[0m     indexer \u001b[38;5;241m=\u001b[39m axis\u001b[38;5;241m.\u001b[39mget_indexer(new_axis)\n\u001b[0;32m   4554\u001b[0m \u001b[38;5;66;03m# Case for non-unique axis\u001b[39;00m\n\u001b[0;32m   4555\u001b[0m \u001b[38;5;28;01melse\u001b[39;00m:\n",
      "File \u001b[1;32m~\\AppData\\Local\\Programs\\Python\\Python310\\lib\\site-packages\\pandas\\core\\indexes\\base.py:6972\u001b[0m, in \u001b[0;36mIndex.drop\u001b[1;34m(self, labels, errors)\u001b[0m\n\u001b[0;32m   6970\u001b[0m \u001b[38;5;28;01mif\u001b[39;00m mask\u001b[38;5;241m.\u001b[39many():\n\u001b[0;32m   6971\u001b[0m     \u001b[38;5;28;01mif\u001b[39;00m errors \u001b[38;5;241m!=\u001b[39m \u001b[38;5;124m\"\u001b[39m\u001b[38;5;124mignore\u001b[39m\u001b[38;5;124m\"\u001b[39m:\n\u001b[1;32m-> 6972\u001b[0m         \u001b[38;5;28;01mraise\u001b[39;00m \u001b[38;5;167;01mKeyError\u001b[39;00m(\u001b[38;5;124mf\u001b[39m\u001b[38;5;124m\"\u001b[39m\u001b[38;5;132;01m{\u001b[39;00m\u001b[38;5;28mlist\u001b[39m(labels[mask])\u001b[38;5;132;01m}\u001b[39;00m\u001b[38;5;124m not found in axis\u001b[39m\u001b[38;5;124m\"\u001b[39m)\n\u001b[0;32m   6973\u001b[0m     indexer \u001b[38;5;241m=\u001b[39m indexer[\u001b[38;5;241m~\u001b[39mmask]\n\u001b[0;32m   6974\u001b[0m \u001b[38;5;28;01mreturn\u001b[39;00m \u001b[38;5;28mself\u001b[39m\u001b[38;5;241m.\u001b[39mdelete(indexer)\n",
      "\u001b[1;31mKeyError\u001b[0m: \"['Name'] not found in axis\""
     ]
    }
   ],
   "source": [
    "df.drop(\"Name\")"
   ]
  },
  {
   "cell_type": "code",
   "execution_count": 80,
   "id": "31075b3d",
   "metadata": {},
   "outputs": [
    {
     "data": {
      "text/html": [
       "<div>\n",
       "<style scoped>\n",
       "    .dataframe tbody tr th:only-of-type {\n",
       "        vertical-align: middle;\n",
       "    }\n",
       "\n",
       "    .dataframe tbody tr th {\n",
       "        vertical-align: top;\n",
       "    }\n",
       "\n",
       "    .dataframe thead th {\n",
       "        text-align: right;\n",
       "    }\n",
       "</style>\n",
       "<table border=\"1\" class=\"dataframe\">\n",
       "  <thead>\n",
       "    <tr style=\"text-align: right;\">\n",
       "      <th></th>\n",
       "      <th>Email</th>\n",
       "      <th>Roll</th>\n",
       "      <th>Attendance</th>\n",
       "      <th>First Name</th>\n",
       "      <th>Last Name</th>\n",
       "    </tr>\n",
       "  </thead>\n",
       "  <tbody>\n",
       "    <tr>\n",
       "      <th>0</th>\n",
       "      <td>emon@test.com</td>\n",
       "      <td>220304</td>\n",
       "      <td>Present</td>\n",
       "      <td>Emon</td>\n",
       "      <td>Durjoy</td>\n",
       "    </tr>\n",
       "    <tr>\n",
       "      <th>1</th>\n",
       "      <td>mozumder@company.com</td>\n",
       "      <td>2230843</td>\n",
       "      <td>Present</td>\n",
       "      <td>Mahfuz</td>\n",
       "      <td>Mozumder</td>\n",
       "    </tr>\n",
       "    <tr>\n",
       "      <th>2</th>\n",
       "      <td>Rakib@test.com</td>\n",
       "      <td>220876</td>\n",
       "      <td>Present</td>\n",
       "      <td>Rakib</td>\n",
       "      <td>Ahmed</td>\n",
       "    </tr>\n",
       "    <tr>\n",
       "      <th>3</th>\n",
       "      <td>Shahidul@test.com</td>\n",
       "      <td>2234583</td>\n",
       "      <td>Absent</td>\n",
       "      <td>Shahidul</td>\n",
       "      <td>Hossain</td>\n",
       "    </tr>\n",
       "  </tbody>\n",
       "</table>\n",
       "</div>"
      ],
      "text/plain": [
       "                  Email     Roll Attendance First Name Last Name\n",
       "0         emon@test.com   220304    Present       Emon    Durjoy\n",
       "1  mozumder@company.com  2230843    Present     Mahfuz  Mozumder\n",
       "2        Rakib@test.com   220876    Present      Rakib     Ahmed\n",
       "3     Shahidul@test.com  2234583     Absent   Shahidul   Hossain"
      ]
     },
     "execution_count": 80,
     "metadata": {},
     "output_type": "execute_result"
    }
   ],
   "source": [
    "df.drop(\"Name\", axis=1)"
   ]
  },
  {
   "cell_type": "code",
   "execution_count": 81,
   "id": "817c9ab7",
   "metadata": {},
   "outputs": [
    {
     "data": {
      "text/html": [
       "<div>\n",
       "<style scoped>\n",
       "    .dataframe tbody tr th:only-of-type {\n",
       "        vertical-align: middle;\n",
       "    }\n",
       "\n",
       "    .dataframe tbody tr th {\n",
       "        vertical-align: top;\n",
       "    }\n",
       "\n",
       "    .dataframe thead th {\n",
       "        text-align: right;\n",
       "    }\n",
       "</style>\n",
       "<table border=\"1\" class=\"dataframe\">\n",
       "  <thead>\n",
       "    <tr style=\"text-align: right;\">\n",
       "      <th></th>\n",
       "      <th>Name</th>\n",
       "      <th>Email</th>\n",
       "      <th>Roll</th>\n",
       "      <th>Attendance</th>\n",
       "      <th>First Name</th>\n",
       "      <th>Last Name</th>\n",
       "    </tr>\n",
       "  </thead>\n",
       "  <tbody>\n",
       "    <tr>\n",
       "      <th>0</th>\n",
       "      <td>Emon Durjoy</td>\n",
       "      <td>emon@test.com</td>\n",
       "      <td>220304</td>\n",
       "      <td>Present</td>\n",
       "      <td>Emon</td>\n",
       "      <td>Durjoy</td>\n",
       "    </tr>\n",
       "    <tr>\n",
       "      <th>1</th>\n",
       "      <td>Mahfuz Mozumder</td>\n",
       "      <td>mozumder@company.com</td>\n",
       "      <td>2230843</td>\n",
       "      <td>Present</td>\n",
       "      <td>Mahfuz</td>\n",
       "      <td>Mozumder</td>\n",
       "    </tr>\n",
       "    <tr>\n",
       "      <th>2</th>\n",
       "      <td>Rakib Ahmed</td>\n",
       "      <td>Rakib@test.com</td>\n",
       "      <td>220876</td>\n",
       "      <td>Present</td>\n",
       "      <td>Rakib</td>\n",
       "      <td>Ahmed</td>\n",
       "    </tr>\n",
       "    <tr>\n",
       "      <th>3</th>\n",
       "      <td>Shahidul Hossain</td>\n",
       "      <td>Shahidul@test.com</td>\n",
       "      <td>2234583</td>\n",
       "      <td>Absent</td>\n",
       "      <td>Shahidul</td>\n",
       "      <td>Hossain</td>\n",
       "    </tr>\n",
       "  </tbody>\n",
       "</table>\n",
       "</div>"
      ],
      "text/plain": [
       "               Name                 Email     Roll Attendance First Name  \\\n",
       "0       Emon Durjoy         emon@test.com   220304    Present       Emon   \n",
       "1   Mahfuz Mozumder  mozumder@company.com  2230843    Present     Mahfuz   \n",
       "2       Rakib Ahmed        Rakib@test.com   220876    Present      Rakib   \n",
       "3  Shahidul Hossain     Shahidul@test.com  2234583     Absent   Shahidul   \n",
       "\n",
       "  Last Name  \n",
       "0    Durjoy  \n",
       "1  Mozumder  \n",
       "2     Ahmed  \n",
       "3   Hossain  "
      ]
     },
     "execution_count": 81,
     "metadata": {},
     "output_type": "execute_result"
    }
   ],
   "source": [
    "df"
   ]
  },
  {
   "cell_type": "code",
   "execution_count": 38,
   "id": "fb464a90",
   "metadata": {},
   "outputs": [
    {
     "data": {
      "text/html": [
       "<div>\n",
       "<style scoped>\n",
       "    .dataframe tbody tr th:only-of-type {\n",
       "        vertical-align: middle;\n",
       "    }\n",
       "\n",
       "    .dataframe tbody tr th {\n",
       "        vertical-align: top;\n",
       "    }\n",
       "\n",
       "    .dataframe thead th {\n",
       "        text-align: right;\n",
       "    }\n",
       "</style>\n",
       "<table border=\"1\" class=\"dataframe\">\n",
       "  <thead>\n",
       "    <tr style=\"text-align: right;\">\n",
       "      <th></th>\n",
       "      <th>Email</th>\n",
       "      <th>Roll</th>\n",
       "      <th>Attendance</th>\n",
       "      <th>First Name</th>\n",
       "      <th>Last Name</th>\n",
       "    </tr>\n",
       "  </thead>\n",
       "  <tbody>\n",
       "    <tr>\n",
       "      <th>0</th>\n",
       "      <td>emon@test.com</td>\n",
       "      <td>220304</td>\n",
       "      <td>Present</td>\n",
       "      <td>Emon</td>\n",
       "      <td>Durjoy</td>\n",
       "    </tr>\n",
       "    <tr>\n",
       "      <th>1</th>\n",
       "      <td>mahfuz@company.com</td>\n",
       "      <td>2230843</td>\n",
       "      <td>Absent</td>\n",
       "      <td>Mahfuz</td>\n",
       "      <td>Mozumder</td>\n",
       "    </tr>\n",
       "    <tr>\n",
       "      <th>2</th>\n",
       "      <td>Rakib@test.com</td>\n",
       "      <td>220876</td>\n",
       "      <td>Present</td>\n",
       "      <td>Rakib</td>\n",
       "      <td>Ahmed</td>\n",
       "    </tr>\n",
       "    <tr>\n",
       "      <th>3</th>\n",
       "      <td>Shahidul@test.com</td>\n",
       "      <td>2234583</td>\n",
       "      <td>Absent</td>\n",
       "      <td>Shahidul</td>\n",
       "      <td>Hossain</td>\n",
       "    </tr>\n",
       "  </tbody>\n",
       "</table>\n",
       "</div>"
      ],
      "text/plain": [
       "                Email     Roll Attendance First Name Last Name\n",
       "0       emon@test.com   220304    Present       Emon    Durjoy\n",
       "1  mahfuz@company.com  2230843     Absent     Mahfuz  Mozumder\n",
       "2      Rakib@test.com   220876    Present      Rakib     Ahmed\n",
       "3   Shahidul@test.com  2234583     Absent   Shahidul   Hossain"
      ]
     },
     "execution_count": 38,
     "metadata": {},
     "output_type": "execute_result"
    }
   ],
   "source": [
    "df1"
   ]
  },
  {
   "cell_type": "code",
   "execution_count": 37,
   "id": "2c19339a",
   "metadata": {},
   "outputs": [],
   "source": [
    "df1 = df.drop(\"Name\", axis=1)"
   ]
  },
  {
   "cell_type": "code",
   "execution_count": 39,
   "id": "9aa19efc",
   "metadata": {},
   "outputs": [],
   "source": [
    "df.drop(\"Name\", axis=1, inplace=True)"
   ]
  },
  {
   "cell_type": "code",
   "execution_count": 40,
   "id": "ce5a44ae",
   "metadata": {},
   "outputs": [
    {
     "data": {
      "text/html": [
       "<div>\n",
       "<style scoped>\n",
       "    .dataframe tbody tr th:only-of-type {\n",
       "        vertical-align: middle;\n",
       "    }\n",
       "\n",
       "    .dataframe tbody tr th {\n",
       "        vertical-align: top;\n",
       "    }\n",
       "\n",
       "    .dataframe thead th {\n",
       "        text-align: right;\n",
       "    }\n",
       "</style>\n",
       "<table border=\"1\" class=\"dataframe\">\n",
       "  <thead>\n",
       "    <tr style=\"text-align: right;\">\n",
       "      <th></th>\n",
       "      <th>Email</th>\n",
       "      <th>Roll</th>\n",
       "      <th>Attendance</th>\n",
       "      <th>First Name</th>\n",
       "      <th>Last Name</th>\n",
       "    </tr>\n",
       "  </thead>\n",
       "  <tbody>\n",
       "    <tr>\n",
       "      <th>0</th>\n",
       "      <td>emon@test.com</td>\n",
       "      <td>220304</td>\n",
       "      <td>Present</td>\n",
       "      <td>Emon</td>\n",
       "      <td>Durjoy</td>\n",
       "    </tr>\n",
       "    <tr>\n",
       "      <th>1</th>\n",
       "      <td>mahfuz@company.com</td>\n",
       "      <td>2230843</td>\n",
       "      <td>Absent</td>\n",
       "      <td>Mahfuz</td>\n",
       "      <td>Mozumder</td>\n",
       "    </tr>\n",
       "    <tr>\n",
       "      <th>2</th>\n",
       "      <td>Rakib@test.com</td>\n",
       "      <td>220876</td>\n",
       "      <td>Present</td>\n",
       "      <td>Rakib</td>\n",
       "      <td>Ahmed</td>\n",
       "    </tr>\n",
       "    <tr>\n",
       "      <th>3</th>\n",
       "      <td>Shahidul@test.com</td>\n",
       "      <td>2234583</td>\n",
       "      <td>Absent</td>\n",
       "      <td>Shahidul</td>\n",
       "      <td>Hossain</td>\n",
       "    </tr>\n",
       "  </tbody>\n",
       "</table>\n",
       "</div>"
      ],
      "text/plain": [
       "                Email     Roll Attendance First Name Last Name\n",
       "0       emon@test.com   220304    Present       Emon    Durjoy\n",
       "1  mahfuz@company.com  2230843     Absent     Mahfuz  Mozumder\n",
       "2      Rakib@test.com   220876    Present      Rakib     Ahmed\n",
       "3   Shahidul@test.com  2234583     Absent   Shahidul   Hossain"
      ]
     },
     "execution_count": 40,
     "metadata": {},
     "output_type": "execute_result"
    }
   ],
   "source": [
    "df"
   ]
  },
  {
   "cell_type": "code",
   "execution_count": 41,
   "id": "e87bb1ca",
   "metadata": {},
   "outputs": [],
   "source": [
    "df[\"Name\"] = df['First Name'] + \" \"+ df[\"Last Name\"]"
   ]
  },
  {
   "cell_type": "code",
   "execution_count": 42,
   "id": "9b0c34c4",
   "metadata": {},
   "outputs": [
    {
     "data": {
      "text/html": [
       "<div>\n",
       "<style scoped>\n",
       "    .dataframe tbody tr th:only-of-type {\n",
       "        vertical-align: middle;\n",
       "    }\n",
       "\n",
       "    .dataframe tbody tr th {\n",
       "        vertical-align: top;\n",
       "    }\n",
       "\n",
       "    .dataframe thead th {\n",
       "        text-align: right;\n",
       "    }\n",
       "</style>\n",
       "<table border=\"1\" class=\"dataframe\">\n",
       "  <thead>\n",
       "    <tr style=\"text-align: right;\">\n",
       "      <th></th>\n",
       "      <th>Email</th>\n",
       "      <th>Roll</th>\n",
       "      <th>Attendance</th>\n",
       "      <th>First Name</th>\n",
       "      <th>Last Name</th>\n",
       "      <th>Name</th>\n",
       "    </tr>\n",
       "  </thead>\n",
       "  <tbody>\n",
       "    <tr>\n",
       "      <th>0</th>\n",
       "      <td>emon@test.com</td>\n",
       "      <td>220304</td>\n",
       "      <td>Present</td>\n",
       "      <td>Emon</td>\n",
       "      <td>Durjoy</td>\n",
       "      <td>Emon Durjoy</td>\n",
       "    </tr>\n",
       "    <tr>\n",
       "      <th>1</th>\n",
       "      <td>mahfuz@company.com</td>\n",
       "      <td>2230843</td>\n",
       "      <td>Absent</td>\n",
       "      <td>Mahfuz</td>\n",
       "      <td>Mozumder</td>\n",
       "      <td>Mahfuz Mozumder</td>\n",
       "    </tr>\n",
       "    <tr>\n",
       "      <th>2</th>\n",
       "      <td>Rakib@test.com</td>\n",
       "      <td>220876</td>\n",
       "      <td>Present</td>\n",
       "      <td>Rakib</td>\n",
       "      <td>Ahmed</td>\n",
       "      <td>Rakib Ahmed</td>\n",
       "    </tr>\n",
       "    <tr>\n",
       "      <th>3</th>\n",
       "      <td>Shahidul@test.com</td>\n",
       "      <td>2234583</td>\n",
       "      <td>Absent</td>\n",
       "      <td>Shahidul</td>\n",
       "      <td>Hossain</td>\n",
       "      <td>Shahidul Hossain</td>\n",
       "    </tr>\n",
       "  </tbody>\n",
       "</table>\n",
       "</div>"
      ],
      "text/plain": [
       "                Email     Roll Attendance First Name Last Name  \\\n",
       "0       emon@test.com   220304    Present       Emon    Durjoy   \n",
       "1  mahfuz@company.com  2230843     Absent     Mahfuz  Mozumder   \n",
       "2      Rakib@test.com   220876    Present      Rakib     Ahmed   \n",
       "3   Shahidul@test.com  2234583     Absent   Shahidul   Hossain   \n",
       "\n",
       "               Name  \n",
       "0       Emon Durjoy  \n",
       "1   Mahfuz Mozumder  \n",
       "2       Rakib Ahmed  \n",
       "3  Shahidul Hossain  "
      ]
     },
     "execution_count": 42,
     "metadata": {},
     "output_type": "execute_result"
    }
   ],
   "source": [
    "df"
   ]
  },
  {
   "cell_type": "markdown",
   "id": "7257e0ba",
   "metadata": {},
   "source": [
    "### 2.9 Adding Rows"
   ]
  },
  {
   "cell_type": "code",
   "execution_count": 45,
   "id": "03323136",
   "metadata": {},
   "outputs": [
    {
     "name": "stderr",
     "output_type": "stream",
     "text": [
      "C:\\Users\\MASUM\\AppData\\Local\\Temp\\ipykernel_19972\\4038226352.py:1: FutureWarning: The frame.append method is deprecated and will be removed from pandas in a future version. Use pandas.concat instead.\n",
      "  df.append({\"Email\": \"naim@yahoo.com\", \"Roll\": \"220343\", \"Attendance\": \"Absent\", \"First Name\":\"Naimur\", \"Last Name\": \"Rahman\", \"Last Name\": \"Naimur Rahman\"}, ignore_index=True)\n"
     ]
    },
    {
     "data": {
      "text/html": [
       "<div>\n",
       "<style scoped>\n",
       "    .dataframe tbody tr th:only-of-type {\n",
       "        vertical-align: middle;\n",
       "    }\n",
       "\n",
       "    .dataframe tbody tr th {\n",
       "        vertical-align: top;\n",
       "    }\n",
       "\n",
       "    .dataframe thead th {\n",
       "        text-align: right;\n",
       "    }\n",
       "</style>\n",
       "<table border=\"1\" class=\"dataframe\">\n",
       "  <thead>\n",
       "    <tr style=\"text-align: right;\">\n",
       "      <th></th>\n",
       "      <th>Email</th>\n",
       "      <th>Roll</th>\n",
       "      <th>Attendance</th>\n",
       "      <th>First Name</th>\n",
       "      <th>Last Name</th>\n",
       "      <th>Name</th>\n",
       "    </tr>\n",
       "  </thead>\n",
       "  <tbody>\n",
       "    <tr>\n",
       "      <th>0</th>\n",
       "      <td>emon@test.com</td>\n",
       "      <td>220304</td>\n",
       "      <td>Present</td>\n",
       "      <td>Emon</td>\n",
       "      <td>Durjoy</td>\n",
       "      <td>Emon Durjoy</td>\n",
       "    </tr>\n",
       "    <tr>\n",
       "      <th>1</th>\n",
       "      <td>mahfuz@company.com</td>\n",
       "      <td>2230843</td>\n",
       "      <td>Absent</td>\n",
       "      <td>Mahfuz</td>\n",
       "      <td>Mozumder</td>\n",
       "      <td>Mahfuz Mozumder</td>\n",
       "    </tr>\n",
       "    <tr>\n",
       "      <th>2</th>\n",
       "      <td>Rakib@test.com</td>\n",
       "      <td>220876</td>\n",
       "      <td>Present</td>\n",
       "      <td>Rakib</td>\n",
       "      <td>Ahmed</td>\n",
       "      <td>Rakib Ahmed</td>\n",
       "    </tr>\n",
       "    <tr>\n",
       "      <th>3</th>\n",
       "      <td>Shahidul@test.com</td>\n",
       "      <td>2234583</td>\n",
       "      <td>Absent</td>\n",
       "      <td>Shahidul</td>\n",
       "      <td>Hossain</td>\n",
       "      <td>Shahidul Hossain</td>\n",
       "    </tr>\n",
       "    <tr>\n",
       "      <th>4</th>\n",
       "      <td>naim@yahoo.com</td>\n",
       "      <td>220343</td>\n",
       "      <td>Absent</td>\n",
       "      <td>Naimur</td>\n",
       "      <td>Naimur Rahman</td>\n",
       "      <td>NaN</td>\n",
       "    </tr>\n",
       "  </tbody>\n",
       "</table>\n",
       "</div>"
      ],
      "text/plain": [
       "                Email     Roll Attendance First Name      Last Name  \\\n",
       "0       emon@test.com   220304    Present       Emon         Durjoy   \n",
       "1  mahfuz@company.com  2230843     Absent     Mahfuz       Mozumder   \n",
       "2      Rakib@test.com   220876    Present      Rakib          Ahmed   \n",
       "3   Shahidul@test.com  2234583     Absent   Shahidul        Hossain   \n",
       "4      naim@yahoo.com   220343     Absent     Naimur  Naimur Rahman   \n",
       "\n",
       "               Name  \n",
       "0       Emon Durjoy  \n",
       "1   Mahfuz Mozumder  \n",
       "2       Rakib Ahmed  \n",
       "3  Shahidul Hossain  \n",
       "4               NaN  "
      ]
     },
     "execution_count": 45,
     "metadata": {},
     "output_type": "execute_result"
    }
   ],
   "source": [
    "df.append({\"Email\": \"naim@yahoo.com\", \"Roll\": \"220343\", \"Attendance\": \"Absent\", \"First Name\":\"Naimur\", \"Last Name\": \"Rahman\", \"Last Name\": \"Naimur Rahman\"}, ignore_index=True)"
   ]
  },
  {
   "cell_type": "code",
   "execution_count": 46,
   "id": "f36edd8d",
   "metadata": {},
   "outputs": [
    {
     "data": {
      "text/html": [
       "<div>\n",
       "<style scoped>\n",
       "    .dataframe tbody tr th:only-of-type {\n",
       "        vertical-align: middle;\n",
       "    }\n",
       "\n",
       "    .dataframe tbody tr th {\n",
       "        vertical-align: top;\n",
       "    }\n",
       "\n",
       "    .dataframe thead th {\n",
       "        text-align: right;\n",
       "    }\n",
       "</style>\n",
       "<table border=\"1\" class=\"dataframe\">\n",
       "  <thead>\n",
       "    <tr style=\"text-align: right;\">\n",
       "      <th></th>\n",
       "      <th>Email</th>\n",
       "      <th>Roll</th>\n",
       "      <th>Attendance</th>\n",
       "      <th>First Name</th>\n",
       "      <th>Last Name</th>\n",
       "      <th>Name</th>\n",
       "    </tr>\n",
       "  </thead>\n",
       "  <tbody>\n",
       "    <tr>\n",
       "      <th>0</th>\n",
       "      <td>emon@test.com</td>\n",
       "      <td>220304</td>\n",
       "      <td>Present</td>\n",
       "      <td>Emon</td>\n",
       "      <td>Durjoy</td>\n",
       "      <td>Emon Durjoy</td>\n",
       "    </tr>\n",
       "    <tr>\n",
       "      <th>1</th>\n",
       "      <td>mahfuz@company.com</td>\n",
       "      <td>2230843</td>\n",
       "      <td>Absent</td>\n",
       "      <td>Mahfuz</td>\n",
       "      <td>Mozumder</td>\n",
       "      <td>Mahfuz Mozumder</td>\n",
       "    </tr>\n",
       "    <tr>\n",
       "      <th>2</th>\n",
       "      <td>Rakib@test.com</td>\n",
       "      <td>220876</td>\n",
       "      <td>Present</td>\n",
       "      <td>Rakib</td>\n",
       "      <td>Ahmed</td>\n",
       "      <td>Rakib Ahmed</td>\n",
       "    </tr>\n",
       "    <tr>\n",
       "      <th>3</th>\n",
       "      <td>Shahidul@test.com</td>\n",
       "      <td>2234583</td>\n",
       "      <td>Absent</td>\n",
       "      <td>Shahidul</td>\n",
       "      <td>Hossain</td>\n",
       "      <td>Shahidul Hossain</td>\n",
       "    </tr>\n",
       "  </tbody>\n",
       "</table>\n",
       "</div>"
      ],
      "text/plain": [
       "                Email     Roll Attendance First Name Last Name  \\\n",
       "0       emon@test.com   220304    Present       Emon    Durjoy   \n",
       "1  mahfuz@company.com  2230843     Absent     Mahfuz  Mozumder   \n",
       "2      Rakib@test.com   220876    Present      Rakib     Ahmed   \n",
       "3   Shahidul@test.com  2234583     Absent   Shahidul   Hossain   \n",
       "\n",
       "               Name  \n",
       "0       Emon Durjoy  \n",
       "1   Mahfuz Mozumder  \n",
       "2       Rakib Ahmed  \n",
       "3  Shahidul Hossain  "
      ]
     },
     "execution_count": 46,
     "metadata": {},
     "output_type": "execute_result"
    }
   ],
   "source": [
    "df"
   ]
  },
  {
   "cell_type": "code",
   "execution_count": 47,
   "id": "1b4f8a92",
   "metadata": {},
   "outputs": [
    {
     "name": "stderr",
     "output_type": "stream",
     "text": [
      "C:\\Users\\MASUM\\AppData\\Local\\Temp\\ipykernel_19972\\3895844910.py:1: FutureWarning: The frame.append method is deprecated and will be removed from pandas in a future version. Use pandas.concat instead.\n",
      "  df = df.append({\"Email\": \"naim@yahoo.com\", \"Roll\": \"220343\", \"Attendance\": \"Absent\", \"First Name\":\"Naimur\", \"Last Name\": \"Rahman\", \"Last Name\": \"Naimur Rahman\"}, ignore_index=True)\n"
     ]
    }
   ],
   "source": [
    "df = df.append({\"Email\": \"naim@yahoo.com\", \"Roll\": \"220343\", \"Attendance\": \"Absent\", \"First Name\":\"Naimur\", \"Last Name\": \"Rahman\", \"Last Name\": \"Naimur Rahman\"}, ignore_index=True)"
   ]
  },
  {
   "cell_type": "code",
   "execution_count": 48,
   "id": "327f6239",
   "metadata": {},
   "outputs": [
    {
     "data": {
      "text/html": [
       "<div>\n",
       "<style scoped>\n",
       "    .dataframe tbody tr th:only-of-type {\n",
       "        vertical-align: middle;\n",
       "    }\n",
       "\n",
       "    .dataframe tbody tr th {\n",
       "        vertical-align: top;\n",
       "    }\n",
       "\n",
       "    .dataframe thead th {\n",
       "        text-align: right;\n",
       "    }\n",
       "</style>\n",
       "<table border=\"1\" class=\"dataframe\">\n",
       "  <thead>\n",
       "    <tr style=\"text-align: right;\">\n",
       "      <th></th>\n",
       "      <th>Email</th>\n",
       "      <th>Roll</th>\n",
       "      <th>Attendance</th>\n",
       "      <th>First Name</th>\n",
       "      <th>Last Name</th>\n",
       "      <th>Name</th>\n",
       "    </tr>\n",
       "  </thead>\n",
       "  <tbody>\n",
       "    <tr>\n",
       "      <th>0</th>\n",
       "      <td>emon@test.com</td>\n",
       "      <td>220304</td>\n",
       "      <td>Present</td>\n",
       "      <td>Emon</td>\n",
       "      <td>Durjoy</td>\n",
       "      <td>Emon Durjoy</td>\n",
       "    </tr>\n",
       "    <tr>\n",
       "      <th>1</th>\n",
       "      <td>mahfuz@company.com</td>\n",
       "      <td>2230843</td>\n",
       "      <td>Absent</td>\n",
       "      <td>Mahfuz</td>\n",
       "      <td>Mozumder</td>\n",
       "      <td>Mahfuz Mozumder</td>\n",
       "    </tr>\n",
       "    <tr>\n",
       "      <th>2</th>\n",
       "      <td>Rakib@test.com</td>\n",
       "      <td>220876</td>\n",
       "      <td>Present</td>\n",
       "      <td>Rakib</td>\n",
       "      <td>Ahmed</td>\n",
       "      <td>Rakib Ahmed</td>\n",
       "    </tr>\n",
       "    <tr>\n",
       "      <th>3</th>\n",
       "      <td>Shahidul@test.com</td>\n",
       "      <td>2234583</td>\n",
       "      <td>Absent</td>\n",
       "      <td>Shahidul</td>\n",
       "      <td>Hossain</td>\n",
       "      <td>Shahidul Hossain</td>\n",
       "    </tr>\n",
       "    <tr>\n",
       "      <th>4</th>\n",
       "      <td>naim@yahoo.com</td>\n",
       "      <td>220343</td>\n",
       "      <td>Absent</td>\n",
       "      <td>Naimur</td>\n",
       "      <td>Naimur Rahman</td>\n",
       "      <td>NaN</td>\n",
       "    </tr>\n",
       "  </tbody>\n",
       "</table>\n",
       "</div>"
      ],
      "text/plain": [
       "                Email     Roll Attendance First Name      Last Name  \\\n",
       "0       emon@test.com   220304    Present       Emon         Durjoy   \n",
       "1  mahfuz@company.com  2230843     Absent     Mahfuz       Mozumder   \n",
       "2      Rakib@test.com   220876    Present      Rakib          Ahmed   \n",
       "3   Shahidul@test.com  2234583     Absent   Shahidul        Hossain   \n",
       "4      naim@yahoo.com   220343     Absent     Naimur  Naimur Rahman   \n",
       "\n",
       "               Name  \n",
       "0       Emon Durjoy  \n",
       "1   Mahfuz Mozumder  \n",
       "2       Rakib Ahmed  \n",
       "3  Shahidul Hossain  \n",
       "4               NaN  "
      ]
     },
     "execution_count": 48,
     "metadata": {},
     "output_type": "execute_result"
    }
   ],
   "source": [
    "df"
   ]
  },
  {
   "cell_type": "code",
   "execution_count": null,
   "id": "f2743621",
   "metadata": {},
   "outputs": [],
   "source": []
  }
 ],
 "metadata": {
  "kernelspec": {
   "display_name": "Python 3 (ipykernel)",
   "language": "python",
   "name": "python3"
  },
  "language_info": {
   "codemirror_mode": {
    "name": "ipython",
    "version": 3
   },
   "file_extension": ".py",
   "mimetype": "text/x-python",
   "name": "python",
   "nbconvert_exporter": "python",
   "pygments_lexer": "ipython3",
   "version": "3.10.6"
  }
 },
 "nbformat": 4,
 "nbformat_minor": 5
}
